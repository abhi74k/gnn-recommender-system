{
 "cells": [
  {
   "cell_type": "code",
   "execution_count": 132,
   "id": "initial_id",
   "metadata": {
    "collapsed": true,
    "ExecuteTime": {
     "end_time": "2023-12-10T09:28:45.704923600Z",
     "start_time": "2023-12-10T09:28:45.678288600Z"
    }
   },
   "outputs": [],
   "source": [
    "from torch_geometric.data import HeteroData\n",
    "import torch\n",
    "import pandas as pd\n",
    "import numpy as np\n",
    "import matplotlib.pyplot as plt"
   ]
  },
  {
   "cell_type": "code",
   "execution_count": 11,
   "outputs": [],
   "source": [
    "users_pd = pd.read_csv(\"C:/Users/josep/amazon_dataset_latest/users.csv\")\n",
    "products_pd = pd.read_csv(\"C:/Users/josep/amazon_dataset_latest/all_products.csv\")\n",
    "user_product_edge_pd = pd.read_csv(\"C:/Users/josep/amazon_dataset_latest/user_product_edges.csv\")\n",
    "also_bought_edges_pd = pd.read_csv(\"C:/Users/josep/amazon_dataset_latest/also_bought_edges.csv\")\n",
    "also_viewed_edges_pd = pd.read_csv(\"C:/Users/josep/amazon_dataset_latest/also_viewed_edges.csv\")\n",
    "bought_together_edges_pd = pd.read_csv(\"C:/Users/josep/amazon_dataset_latest/bought_together_edges.csv\")"
   ],
   "metadata": {
    "collapsed": false,
    "ExecuteTime": {
     "end_time": "2023-12-10T06:28:50.708009800Z",
     "start_time": "2023-12-10T06:28:22.641403500Z"
    }
   },
   "id": "ef2216681f921aaa"
  },
  {
   "cell_type": "code",
   "execution_count": 28,
   "outputs": [
    {
     "data": {
      "text/plain": "   overall      reviewerID        asin        date  helpfulness_ratio\n0        5  A2XVJBSRI3SWDI  0000031887  2013-11-04                0.0\n1        2  A2R3K1KX09QBYP  0000031887  2013-02-17                1.0\n2        1   A19PBP93OF896  0000031887  2013-03-21                0.0\n3        4  A1P0IHU93EF9ZK  0000031887  2014-01-23                0.0\n4        5  A2G5TCU2WDFZ65  0000031887  2013-01-19                0.0",
      "text/html": "<div>\n<style scoped>\n    .dataframe tbody tr th:only-of-type {\n        vertical-align: middle;\n    }\n\n    .dataframe tbody tr th {\n        vertical-align: top;\n    }\n\n    .dataframe thead th {\n        text-align: right;\n    }\n</style>\n<table border=\"1\" class=\"dataframe\">\n  <thead>\n    <tr style=\"text-align: right;\">\n      <th></th>\n      <th>overall</th>\n      <th>reviewerID</th>\n      <th>asin</th>\n      <th>date</th>\n      <th>helpfulness_ratio</th>\n    </tr>\n  </thead>\n  <tbody>\n    <tr>\n      <th>0</th>\n      <td>5</td>\n      <td>A2XVJBSRI3SWDI</td>\n      <td>0000031887</td>\n      <td>2013-11-04</td>\n      <td>0.0</td>\n    </tr>\n    <tr>\n      <th>1</th>\n      <td>2</td>\n      <td>A2R3K1KX09QBYP</td>\n      <td>0000031887</td>\n      <td>2013-02-17</td>\n      <td>1.0</td>\n    </tr>\n    <tr>\n      <th>2</th>\n      <td>1</td>\n      <td>A19PBP93OF896</td>\n      <td>0000031887</td>\n      <td>2013-03-21</td>\n      <td>0.0</td>\n    </tr>\n    <tr>\n      <th>3</th>\n      <td>4</td>\n      <td>A1P0IHU93EF9ZK</td>\n      <td>0000031887</td>\n      <td>2014-01-23</td>\n      <td>0.0</td>\n    </tr>\n    <tr>\n      <th>4</th>\n      <td>5</td>\n      <td>A2G5TCU2WDFZ65</td>\n      <td>0000031887</td>\n      <td>2013-01-19</td>\n      <td>0.0</td>\n    </tr>\n  </tbody>\n</table>\n</div>"
     },
     "execution_count": 28,
     "metadata": {},
     "output_type": "execute_result"
    }
   ],
   "source": [
    "user_product_edge_pd.head()"
   ],
   "metadata": {
    "collapsed": false,
    "ExecuteTime": {
     "end_time": "2023-12-10T06:36:48.052433800Z",
     "start_time": "2023-12-10T06:36:48.002474600Z"
    }
   },
   "id": "bf833bfa716e1f04"
  },
  {
   "cell_type": "code",
   "execution_count": 15,
   "outputs": [
    {
     "data": {
      "text/plain": "         asin also_bought\n0  0000031887  B003AVKOP2\n1  0000031887  B00D103F8U\n2  0000031887  B008F0SU0Y\n3  0000031887  B003AVEU6G\n4  0000031887  B002C3Y6WG",
      "text/html": "<div>\n<style scoped>\n    .dataframe tbody tr th:only-of-type {\n        vertical-align: middle;\n    }\n\n    .dataframe tbody tr th {\n        vertical-align: top;\n    }\n\n    .dataframe thead th {\n        text-align: right;\n    }\n</style>\n<table border=\"1\" class=\"dataframe\">\n  <thead>\n    <tr style=\"text-align: right;\">\n      <th></th>\n      <th>asin</th>\n      <th>also_bought</th>\n    </tr>\n  </thead>\n  <tbody>\n    <tr>\n      <th>0</th>\n      <td>0000031887</td>\n      <td>B003AVKOP2</td>\n    </tr>\n    <tr>\n      <th>1</th>\n      <td>0000031887</td>\n      <td>B00D103F8U</td>\n    </tr>\n    <tr>\n      <th>2</th>\n      <td>0000031887</td>\n      <td>B008F0SU0Y</td>\n    </tr>\n    <tr>\n      <th>3</th>\n      <td>0000031887</td>\n      <td>B003AVEU6G</td>\n    </tr>\n    <tr>\n      <th>4</th>\n      <td>0000031887</td>\n      <td>B002C3Y6WG</td>\n    </tr>\n  </tbody>\n</table>\n</div>"
     },
     "execution_count": 15,
     "metadata": {},
     "output_type": "execute_result"
    }
   ],
   "source": [
    "also_bought_edges_pd.head()"
   ],
   "metadata": {
    "collapsed": false,
    "ExecuteTime": {
     "end_time": "2023-12-10T06:29:56.673675800Z",
     "start_time": "2023-12-10T06:29:56.626442300Z"
    }
   },
   "id": "c4b9d7ccf1fe8e5e"
  },
  {
   "cell_type": "code",
   "execution_count": 17,
   "outputs": [
    {
     "data": {
      "text/plain": "         asin also_viewed\n0  0000037214  B00JO8II76\n1  0000031887  B00538F5OK\n2  0000031887  B003AVKOP2\n3  0000031887  B008F0SU0Y\n4  0000031887  B002GZPTRQ",
      "text/html": "<div>\n<style scoped>\n    .dataframe tbody tr th:only-of-type {\n        vertical-align: middle;\n    }\n\n    .dataframe tbody tr th {\n        vertical-align: top;\n    }\n\n    .dataframe thead th {\n        text-align: right;\n    }\n</style>\n<table border=\"1\" class=\"dataframe\">\n  <thead>\n    <tr style=\"text-align: right;\">\n      <th></th>\n      <th>asin</th>\n      <th>also_viewed</th>\n    </tr>\n  </thead>\n  <tbody>\n    <tr>\n      <th>0</th>\n      <td>0000037214</td>\n      <td>B00JO8II76</td>\n    </tr>\n    <tr>\n      <th>1</th>\n      <td>0000031887</td>\n      <td>B00538F5OK</td>\n    </tr>\n    <tr>\n      <th>2</th>\n      <td>0000031887</td>\n      <td>B003AVKOP2</td>\n    </tr>\n    <tr>\n      <th>3</th>\n      <td>0000031887</td>\n      <td>B008F0SU0Y</td>\n    </tr>\n    <tr>\n      <th>4</th>\n      <td>0000031887</td>\n      <td>B002GZPTRQ</td>\n    </tr>\n  </tbody>\n</table>\n</div>"
     },
     "execution_count": 17,
     "metadata": {},
     "output_type": "execute_result"
    }
   ],
   "source": [
    "also_viewed_edges_pd.head()"
   ],
   "metadata": {
    "collapsed": false,
    "ExecuteTime": {
     "end_time": "2023-12-10T06:30:18.609935200Z",
     "start_time": "2023-12-10T06:30:18.502869Z"
    }
   },
   "id": "c74ee1713a997934"
  },
  {
   "cell_type": "code",
   "execution_count": 18,
   "outputs": [
    {
     "data": {
      "text/plain": "         asin bought_together\n0  0123456479      B000BMTCK6\n1  0123456479      B0006JCGUM\n2  1608322130      B003USWPHA\n3  245600258X      B004LK9GZ0\n4  3293015344      B007VE0OI6",
      "text/html": "<div>\n<style scoped>\n    .dataframe tbody tr th:only-of-type {\n        vertical-align: middle;\n    }\n\n    .dataframe tbody tr th {\n        vertical-align: top;\n    }\n\n    .dataframe thead th {\n        text-align: right;\n    }\n</style>\n<table border=\"1\" class=\"dataframe\">\n  <thead>\n    <tr style=\"text-align: right;\">\n      <th></th>\n      <th>asin</th>\n      <th>bought_together</th>\n    </tr>\n  </thead>\n  <tbody>\n    <tr>\n      <th>0</th>\n      <td>0123456479</td>\n      <td>B000BMTCK6</td>\n    </tr>\n    <tr>\n      <th>1</th>\n      <td>0123456479</td>\n      <td>B0006JCGUM</td>\n    </tr>\n    <tr>\n      <th>2</th>\n      <td>1608322130</td>\n      <td>B003USWPHA</td>\n    </tr>\n    <tr>\n      <th>3</th>\n      <td>245600258X</td>\n      <td>B004LK9GZ0</td>\n    </tr>\n    <tr>\n      <th>4</th>\n      <td>3293015344</td>\n      <td>B007VE0OI6</td>\n    </tr>\n  </tbody>\n</table>\n</div>"
     },
     "execution_count": 18,
     "metadata": {},
     "output_type": "execute_result"
    }
   ],
   "source": [
    "bought_together_edges_pd.head()"
   ],
   "metadata": {
    "collapsed": false,
    "ExecuteTime": {
     "end_time": "2023-12-10T06:30:28.291280800Z",
     "start_time": "2023-12-10T06:30:28.236956800Z"
    }
   },
   "id": "fa8d0c421fd3c20e"
  },
  {
   "cell_type": "code",
   "execution_count": 70,
   "outputs": [],
   "source": [
    "class AsinIdMap:\n",
    "    def __init__(self, products_pd):\n",
    "        self.products_pd = products_pd\n",
    "        self.asin_to_idx = {}\n",
    "        self.product_idx_to_asin = {}\n",
    "        self._build()\n",
    "    \n",
    "    def _build(self):\n",
    "        for idx, row in self.products_pd.iterrows():\n",
    "            self.asin_to_idx[row['asin']] = idx\n",
    "            self.product_idx_to_asin[idx] = row['asin']\n",
    "    \n",
    "    def get_idx(self, asin):\n",
    "        return self.asin_to_idx[asin]\n",
    "    \n",
    "    def get_asin(self, product_idx):\n",
    "        return self.product_idx_to_asin[product_idx]\n",
    "    \n",
    "    def get_count(self):\n",
    "        return len(self.asin_to_idx)\n",
    "    \n",
    "def build_product_to_product_edge_index(edges_pd, asin_id_map, right_key):\n",
    "    product_to_product_edge_index = []\n",
    "    errors = []\n",
    "    unique_products = {}\n",
    "    for idx, row in edges_pd.iterrows():\n",
    "        try:\n",
    "            asin1 = row['asin']\n",
    "            product1_idx = asin_id_map.get_idx(asin1)\n",
    "        except:\n",
    "            #errors.append(f\"Cannot map {asin1} to product idx\")\n",
    "            continue\n",
    "        \n",
    "        try:\n",
    "            asin2 = row[right_key]\n",
    "            product2_idx = asin_id_map.get_idx(asin2)\n",
    "        except:\n",
    "            #errors.append(f\"Cannot map {asin2} to product idx\")\n",
    "            continue\n",
    "        \n",
    "        unique_products[asin1] = 1\n",
    "        unique_products[asin2] = 1\n",
    "        \n",
    "        product_to_product_edge_index.append([product1_idx, product2_idx])\n",
    "        \n",
    "    return torch.tensor(product_to_product_edge_index).t().contiguous(), unique_products, errors"
   ],
   "metadata": {
    "collapsed": false,
    "ExecuteTime": {
     "end_time": "2023-12-10T08:01:44.834131500Z",
     "start_time": "2023-12-10T08:01:44.804990Z"
    }
   },
   "id": "a231802ba3826dd"
  },
  {
   "cell_type": "code",
   "execution_count": 45,
   "outputs": [],
   "source": [
    "asin_id_map = AsinIdMap(products_pd)"
   ],
   "metadata": {
    "collapsed": false,
    "ExecuteTime": {
     "end_time": "2023-12-10T06:59:01.966268600Z",
     "start_time": "2023-12-10T06:57:36.235622700Z"
    }
   },
   "id": "3b02c39264176a50"
  },
  {
   "cell_type": "code",
   "execution_count": 69,
   "outputs": [],
   "source": [
    "also_bought_edges_tensor, unique_products1, errors =  build_product_to_product_edge_index(also_bought_edges_pd, asin_id_map, 'also_bought')"
   ],
   "metadata": {
    "collapsed": false,
    "ExecuteTime": {
     "end_time": "2023-12-10T08:01:44.798508300Z",
     "start_time": "2023-12-10T07:54:46.467346800Z"
    }
   },
   "id": "68d0735773f977de"
  },
  {
   "cell_type": "code",
   "execution_count": 73,
   "outputs": [],
   "source": [
    "#also_viewed_edges_tensor, unique_products2, errors =  build_product_to_product_edge_index(also_viewed_edges_pd, asin_id_map, 'also_viewed')"
   ],
   "metadata": {
    "collapsed": false,
    "ExecuteTime": {
     "end_time": "2023-12-10T08:16:27.668456100Z",
     "start_time": "2023-12-10T08:16:27.653286Z"
    }
   },
   "id": "cdcd510fb9e0e4a3"
  },
  {
   "cell_type": "code",
   "execution_count": 68,
   "outputs": [],
   "source": [
    "bought_together_edges_tensor, unique_products3, errors =  build_product_to_product_edge_index(bought_together_edges_pd, asin_id_map, 'bought_together')"
   ],
   "metadata": {
    "collapsed": false,
    "ExecuteTime": {
     "end_time": "2023-12-10T07:54:11.032984100Z",
     "start_time": "2023-12-10T07:53:42.574377300Z"
    }
   },
   "id": "b165c9e5b6f280a"
  },
  {
   "cell_type": "code",
   "execution_count": 71,
   "outputs": [],
   "source": [
    "unique_products = []\n",
    "unique_products.extend(unique_products1)\n",
    "#unique_products.extend(unique_products2)\n",
    "unique_products.extend(unique_products3)\n",
    "unique_products = list(set(unique_products))"
   ],
   "metadata": {
    "collapsed": false,
    "ExecuteTime": {
     "end_time": "2023-12-10T08:15:53.482643900Z",
     "start_time": "2023-12-10T08:15:53.370266700Z"
    }
   },
   "id": "b14cefdac2002542"
  },
  {
   "cell_type": "code",
   "execution_count": 3,
   "outputs": [],
   "source": [
    "data = HeteroData()"
   ],
   "metadata": {
    "collapsed": false
   },
   "id": "513b3c02444bab26"
  },
  {
   "cell_type": "code",
   "execution_count": 74,
   "outputs": [
    {
     "data": {
      "text/plain": "HeteroData(\n  product={ x=[588359, 128] },\n  (product, also_viewed, product)={ edge_index=[2, 1000] },\n  (product, bought_together, product)={ edge_index=[2, 554094] },\n  (product, also_bought, product)={ edge_index=[2, 6279224] }\n)"
     },
     "execution_count": 74,
     "metadata": {},
     "output_type": "execute_result"
    }
   ],
   "source": [
    "# Dimension for product features\n",
    "product_feature_dim = 128\n",
    "num_products = len(unique_products)\n",
    "\n",
    "data['product'].x = torch.randn(num_products, product_feature_dim)\n",
    "\n",
    "# Similar products\n",
    "# data['product', 'also_viewed', 'product'].edge_index = also_viewed_edges_tensor\n",
    "\n",
    "# Complementary products\n",
    "data['product', 'bought_together', 'product'].edge_index = bought_together_edges_tensor\n",
    "data['product', 'also_bought', 'product'].edge_index = also_bought_edges_tensor\n",
    "\n",
    "data"
   ],
   "metadata": {
    "collapsed": false,
    "ExecuteTime": {
     "end_time": "2023-12-10T08:16:48.204700800Z",
     "start_time": "2023-12-10T08:16:47.669961200Z"
    }
   },
   "id": "bdea54ef137eec53"
  },
  {
   "cell_type": "markdown",
   "source": [
    "### Using NetworkX to manipulate the graph"
   ],
   "metadata": {
    "collapsed": false
   },
   "id": "928963433b491500"
  },
  {
   "cell_type": "code",
   "execution_count": 75,
   "outputs": [],
   "source": [
    "import networkx as nx\n",
    "G = nx.Graph()"
   ],
   "metadata": {
    "collapsed": false,
    "ExecuteTime": {
     "end_time": "2023-12-10T08:19:31.846603400Z",
     "start_time": "2023-12-10T08:19:29.121191Z"
    }
   },
   "id": "d68beefdaba20ec5"
  },
  {
   "cell_type": "code",
   "execution_count": 109,
   "outputs": [],
   "source": [
    "also_bought_edges = []\n",
    "for idx, row in also_bought_edges_pd.iterrows():\n",
    "    asin = row['asin']\n",
    "    also_bought = row['also_bought']\n",
    "    also_bought_edges.append((asin, also_bought))"
   ],
   "metadata": {
    "collapsed": false,
    "ExecuteTime": {
     "end_time": "2023-12-10T09:01:33.573730100Z",
     "start_time": "2023-12-10T08:53:00.415210Z"
    }
   },
   "id": "51c89e66289f5623"
  },
  {
   "cell_type": "code",
   "execution_count": 110,
   "outputs": [],
   "source": [
    "bought_together_edges = []\n",
    "for idx, row in bought_together_edges_pd.iterrows():\n",
    "    asin = row['asin']\n",
    "    bought_together = row['bought_together']\n",
    "    bought_together_edges.append((asin, bought_together))"
   ],
   "metadata": {
    "collapsed": false,
    "ExecuteTime": {
     "end_time": "2023-12-10T09:03:45.400658Z",
     "start_time": "2023-12-10T09:02:57.745041900Z"
    }
   },
   "id": "54f590a83f096b05"
  },
  {
   "cell_type": "code",
   "execution_count": 154,
   "outputs": [],
   "source": [
    "G.add_edges_from(also_bought_edges, edge_type='also_bought')\n",
    "#G.add_edges_from(bought_together_edges, edge_type='bought_together')\n",
    "H = G.to_undirected()"
   ],
   "metadata": {
    "collapsed": false,
    "ExecuteTime": {
     "end_time": "2023-12-10T09:41:03.764838200Z",
     "start_time": "2023-12-10T09:39:08.174752Z"
    }
   },
   "id": "6eda8382ac93fa4d"
  },
  {
   "cell_type": "code",
   "execution_count": 163,
   "outputs": [
    {
     "name": "stdout",
     "output_type": "stream",
     "text": [
      "Minimum: 0\n",
      "Maximum: 7661\n",
      "First Quartile (Q1): 13.0\n",
      "Median (Q2): 20.0\n",
      "Third Quartile (Q3): 33.0\n",
      "95th Percentile (Q4): 105.0\n",
      "99th Percentile (Q5): 486.0\n"
     ]
    }
   ],
   "source": [
    "node_degrees = [degree for node, degree in dict(H.degree()).items()]\n",
    "min_value = np.min(node_degrees)\n",
    "max_value = np.max(node_degrees)\n",
    "print(f\"Minimum: {min_value}\")\n",
    "print(f\"Maximum: {max_value}\")\n",
    "\n",
    "# Calculate and print quartiles\n",
    "Q1 = np.percentile(node_degrees, 25)  # First quartile\n",
    "Q2 = np.percentile(node_degrees, 50)  # Second quartile (median)\n",
    "Q3 = np.percentile(node_degrees, 75)  # Third quartile\n",
    "Q4 = np.percentile(node_degrees, 95)  # Fourth quartile\n",
    "Q5 = np.percentile(node_degrees, 99)  # Fourth quartile\n",
    "\n",
    "print(f\"First Quartile (Q1): {Q1}\")\n",
    "print(f\"Median (Q2): {Q2}\")\n",
    "print(f\"Third Quartile (Q3): {Q3}\")\n",
    "print(f\"95th Percentile (Q4): {Q4}\")\n",
    "print(f\"99th Percentile (Q5): {Q5}\")\n"
   ],
   "metadata": {
    "collapsed": false,
    "ExecuteTime": {
     "end_time": "2023-12-10T09:46:28.879949100Z",
     "start_time": "2023-12-10T09:46:28.598331100Z"
    }
   },
   "id": "ac3611956de96705"
  },
  {
   "cell_type": "code",
   "execution_count": 162,
   "outputs": [
    {
     "data": {
      "text/plain": "Text(0.5, 1.0, 'Degree distribution for also_bought edges')"
     },
     "execution_count": 162,
     "metadata": {},
     "output_type": "execute_result"
    },
    {
     "data": {
      "text/plain": "<Figure size 640x480 with 1 Axes>",
      "image/png": "[encoded data removed]"
     },
     "metadata": {},
     "output_type": "display_data"
    }
   ],
   "source": [
    "# Plot node_degrees\n",
    "\n",
    "plt.hist(node_degrees, bins = 10)\n",
    "plt.title(\"Degree distribution for also_bought edges\")"
   ],
   "metadata": {
    "collapsed": false,
    "ExecuteTime": {
     "end_time": "2023-12-10T09:46:16.817649900Z",
     "start_time": "2023-12-10T09:45:45.602502100Z"
    }
   },
   "id": "e4360890d779fea5"
  },
  {
   "cell_type": "code",
   "execution_count": 164,
   "outputs": [],
   "source": [
    "# Specify the minimum degree threshold\n",
    "min_degree = 13\n",
    "max_degree = 486\n",
    "# Find nodes with degree less than the threshold\n",
    "nodes_to_remove = [node for node, degree in dict(H.degree()).items() if degree < min_degree or degree > max_degree]\n",
    "\n",
    "# Remove these nodes from the graph\n",
    "H.remove_nodes_from(nodes_to_remove)"
   ],
   "metadata": {
    "collapsed": false,
    "ExecuteTime": {
     "end_time": "2023-12-10T09:47:10.060114600Z",
     "start_time": "2023-12-10T09:46:59.648765Z"
    }
   },
   "id": "b53c348760d539ec"
  },
  {
   "cell_type": "code",
   "execution_count": 166,
   "outputs": [
    {
     "data": {
      "text/plain": "Text(0.5, 1.0, 'Degree distribution for also_bought edges(after filtering)')"
     },
     "execution_count": 166,
     "metadata": {},
     "output_type": "execute_result"
    },
    {
     "data": {
      "text/plain": "<Figure size 640x480 with 1 Axes>",
      "image/png": "[encoded data removed]"
     },
     "metadata": {},
     "output_type": "display_data"
    }
   ],
   "source": [
    "\n",
    "node_degrees = [degree for node, degree in dict(H.degree()).items()]\n",
    "plt.hist(node_degrees, bins = 10)\n",
    "plt.title(\"Degree distribution for also_bought edges(after filtering)\")"
   ],
   "metadata": {
    "collapsed": false,
    "ExecuteTime": {
     "end_time": "2023-12-10T09:47:44.223313300Z",
     "start_time": "2023-12-10T09:47:41.120608400Z"
    }
   },
   "id": "c0bf28dc50384efa"
  },
  {
   "cell_type": "code",
   "execution_count": 168,
   "outputs": [
    {
     "data": {
      "text/plain": "588359"
     },
     "execution_count": 168,
     "metadata": {},
     "output_type": "execute_result"
    }
   ],
   "source": [
    "len(G.nodes)"
   ],
   "metadata": {
    "collapsed": false,
    "ExecuteTime": {
     "end_time": "2023-12-10T09:48:18.117345700Z",
     "start_time": "2023-12-10T09:48:17.810274800Z"
    }
   },
   "id": "fc346ce19aa31dd1"
  }
 ],
 "metadata": {
  "kernelspec": {
   "display_name": "Python 3",
   "language": "python",
   "name": "python3"
  },
  "language_info": {
   "codemirror_mode": {
    "name": "ipython",
    "version": 2
   },
   "file_extension": ".py",
   "mimetype": "text/x-python",
   "name": "python",
   "nbconvert_exporter": "python",
   "pygments_lexer": "ipython2",
   "version": "2.7.6"
  }
 },
 "nbformat": 4,
 "nbformat_minor": 5
}
