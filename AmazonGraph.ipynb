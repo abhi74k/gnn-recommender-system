{
 "cells": [
  {
   "cell_type": "code",
   "execution_count": 7,
   "id": "initial_id",
   "metadata": {
    "collapsed": true,
    "ExecuteTime": {
     "end_time": "2023-12-10T06:24:41.988167800Z",
     "start_time": "2023-12-10T06:24:40.375039900Z"
    }
   },
   "outputs": [],
   "source": [
    "from torch_geometric.data import HeteroData\n",
    "import torch\n",
    "import pandas as pd\n",
    "import numpy as np"
   ]
  },
  {
   "cell_type": "code",
   "execution_count": 11,
   "outputs": [],
   "source": [
    "users_pd = pd.read_csv(\"C:/Users/josep/amazon_dataset_latest/users.csv\")\n",
    "products_pd = pd.read_csv(\"C:/Users/josep/amazon_dataset_latest/products.csv\")\n",
    "user_product_edge_pd = pd.read_csv(\"C:/Users/josep/amazon_dataset_latest/user_product_edges.csv\")\n",
    "also_bought_edges_pd = pd.read_csv(\"C:/Users/josep/amazon_dataset_latest/also_bought_edges.csv\")\n",
    "also_viewed_edges_pd = pd.read_csv(\"C:/Users/josep/amazon_dataset_latest/also_viewed_edges.csv\")\n",
    "bought_together_edges_pd = pd.read_csv(\"C:/Users/josep/amazon_dataset_latest/bought_together_edges.csv\")"
   ],
   "metadata": {
    "collapsed": false,
    "ExecuteTime": {
     "end_time": "2023-12-10T06:28:50.708009800Z",
     "start_time": "2023-12-10T06:28:22.641403500Z"
    }
   },
   "id": "ef2216681f921aaa"
  },
  {
   "cell_type": "code",
   "execution_count": 43,
   "outputs": [],
   "source": [
    "products_pd = pd.read_csv(\"C:/Users/josep/amazon_dataset_latest/all_products.csv\")"
   ],
   "metadata": {
    "collapsed": false,
    "ExecuteTime": {
     "end_time": "2023-12-10T06:56:57.163397400Z",
     "start_time": "2023-12-10T06:56:43.358565300Z"
    }
   },
   "id": "c39848b81b3a2b7a"
  },
  {
   "cell_type": "code",
   "execution_count": 19,
   "outputs": [
    {
     "data": {
      "text/plain": "   overall      reviewerID        asin        date  helpfulness_ratio\n0        5  A2XVJBSRI3SWDI  0000031887  2013-11-04                0.0\n1        2  A2R3K1KX09QBYP  0000031887  2013-02-17                1.0\n2        1   A19PBP93OF896  0000031887  2013-03-21                0.0\n3        4  A1P0IHU93EF9ZK  0000031887  2014-01-23                0.0\n4        5  A2G5TCU2WDFZ65  0000031887  2013-01-19                0.0",
      "text/html": "<div>\n<style scoped>\n    .dataframe tbody tr th:only-of-type {\n        vertical-align: middle;\n    }\n\n    .dataframe tbody tr th {\n        vertical-align: top;\n    }\n\n    .dataframe thead th {\n        text-align: right;\n    }\n</style>\n<table border=\"1\" class=\"dataframe\">\n  <thead>\n    <tr style=\"text-align: right;\">\n      <th></th>\n      <th>overall</th>\n      <th>reviewerID</th>\n      <th>asin</th>\n      <th>date</th>\n      <th>helpfulness_ratio</th>\n    </tr>\n  </thead>\n  <tbody>\n    <tr>\n      <th>0</th>\n      <td>5</td>\n      <td>A2XVJBSRI3SWDI</td>\n      <td>0000031887</td>\n      <td>2013-11-04</td>\n      <td>0.0</td>\n    </tr>\n    <tr>\n      <th>1</th>\n      <td>2</td>\n      <td>A2R3K1KX09QBYP</td>\n      <td>0000031887</td>\n      <td>2013-02-17</td>\n      <td>1.0</td>\n    </tr>\n    <tr>\n      <th>2</th>\n      <td>1</td>\n      <td>A19PBP93OF896</td>\n      <td>0000031887</td>\n      <td>2013-03-21</td>\n      <td>0.0</td>\n    </tr>\n    <tr>\n      <th>3</th>\n      <td>4</td>\n      <td>A1P0IHU93EF9ZK</td>\n      <td>0000031887</td>\n      <td>2014-01-23</td>\n      <td>0.0</td>\n    </tr>\n    <tr>\n      <th>4</th>\n      <td>5</td>\n      <td>A2G5TCU2WDFZ65</td>\n      <td>0000031887</td>\n      <td>2013-01-19</td>\n      <td>0.0</td>\n    </tr>\n  </tbody>\n</table>\n</div>"
     },
     "execution_count": 19,
     "metadata": {},
     "output_type": "execute_result"
    }
   ],
   "source": [
    "users_pd.head()"
   ],
   "metadata": {
    "collapsed": false,
    "ExecuteTime": {
     "end_time": "2023-12-10T06:30:35.147218300Z",
     "start_time": "2023-12-10T06:30:35.102516800Z"
    }
   },
   "id": "b3d434d11883bee6"
  },
  {
   "cell_type": "code",
   "execution_count": 44,
   "outputs": [
    {
     "data": {
      "text/plain": "         asin                                              title  price  \\\n0  0000037214  Purple Sequin Tiny Dancer Tutu Ballet Dance Fa...   6.99   \n1  0000031887                         Ballet Dress-Up Fairy Tutu   6.79   \n2  0123456479  SHINING IMAGE HUGE PINK LEATHER JEWELRY BOX / ...  64.98   \n3  0456844570  RiZ Women's Beautify Crafted &frac12; Rimmed F...    NaN   \n4  0456808574  Lantin White Visor Wrap Around Ski Style Aviat...    NaN   \n\n                                               imUrl           brand  \\\n0  http://ecx.images-amazon.com/images/I/31mCncNu...      Big Dreams   \n1  http://ecx.images-amazon.com/images/I/314qZjYe...  Boutique Cutie   \n2  http://ecx.images-amazon.com/images/I/413tGhqo...             NaN   \n3  http://ecx.images-amazon.com/images/I/31QZTHxv...             NaN   \n4  http://ecx.images-amazon.com/images/I/31UsrgT5...             NaN   \n\n                                         description  \\\n0                                                NaN   \n1  This adorable basic ballerina tutu is perfect ...   \n2  Elegance par excellence. Hand-crafted of the f...   \n3                                                NaN   \n4                                                NaN   \n\n                                          categories  \\\n0  [['Clothing, Shoes & Jewelry', 'Girls'], ['Clo...   \n1  [['Clothing, Shoes & Jewelry', 'Girls', 'Cloth...   \n2  [['Clothing, Shoes & Jewelry', 'Novelty, Costu...   \n3  [['Clothing, Shoes & Jewelry', 'Women', 'Acces...   \n4  [['Clothing, Shoes & Jewelry', 'Women', 'Acces...   \n\n                   category  \\\n0  clothing_shoes_jewellery   \n1  clothing_shoes_jewellery   \n2  clothing_shoes_jewellery   \n3  clothing_shoes_jewellery   \n4  clothing_shoes_jewellery   \n\n                                         also_viewed  \\\n0                                     ['B00JO8II76']   \n1  ['B00538F5OK', 'B003AVKOP2', 'B008F0SU0Y', 'B0...   \n2  ['B0006JCGUM', 'B000BMTCK6', 'B00194Q262', 'B0...   \n3  ['B004UOPY80', 'B00G2LY6OC', 'B00877BFFM', 'B0...   \n4  ['B005WF42SY', 'B003T1CFF0', 'B006AZCMUA', 'B0...   \n\n                                         also_bought  \\\n0                                                NaN   \n1  ['B003AVKOP2', 'B00D103F8U', 'B008F0SU0Y', 'B0...   \n2  ['B000BMTCK6', 'B0006JCGUM', 'B00194Q262', 'B0...   \n3                                                NaN   \n4                                                NaN   \n\n                bought_together  \n0                           NaN  \n1                            []  \n2  ['B000BMTCK6', 'B0006JCGUM']  \n3                           NaN  \n4                           NaN  ",
      "text/html": "<div>\n<style scoped>\n    .dataframe tbody tr th:only-of-type {\n        vertical-align: middle;\n    }\n\n    .dataframe tbody tr th {\n        vertical-align: top;\n    }\n\n    .dataframe thead th {\n        text-align: right;\n    }\n</style>\n<table border=\"1\" class=\"dataframe\">\n  <thead>\n    <tr style=\"text-align: right;\">\n      <th></th>\n      <th>asin</th>\n      <th>title</th>\n      <th>price</th>\n      <th>imUrl</th>\n      <th>brand</th>\n      <th>description</th>\n      <th>categories</th>\n      <th>category</th>\n      <th>also_viewed</th>\n      <th>also_bought</th>\n      <th>bought_together</th>\n    </tr>\n  </thead>\n  <tbody>\n    <tr>\n      <th>0</th>\n      <td>0000037214</td>\n      <td>Purple Sequin Tiny Dancer Tutu Ballet Dance Fa...</td>\n      <td>6.99</td>\n      <td>http://ecx.images-amazon.com/images/I/31mCncNu...</td>\n      <td>Big Dreams</td>\n      <td>NaN</td>\n      <td>[['Clothing, Shoes &amp; Jewelry', 'Girls'], ['Clo...</td>\n      <td>clothing_shoes_jewellery</td>\n      <td>['B00JO8II76']</td>\n      <td>NaN</td>\n      <td>NaN</td>\n    </tr>\n    <tr>\n      <th>1</th>\n      <td>0000031887</td>\n      <td>Ballet Dress-Up Fairy Tutu</td>\n      <td>6.79</td>\n      <td>http://ecx.images-amazon.com/images/I/314qZjYe...</td>\n      <td>Boutique Cutie</td>\n      <td>This adorable basic ballerina tutu is perfect ...</td>\n      <td>[['Clothing, Shoes &amp; Jewelry', 'Girls', 'Cloth...</td>\n      <td>clothing_shoes_jewellery</td>\n      <td>['B00538F5OK', 'B003AVKOP2', 'B008F0SU0Y', 'B0...</td>\n      <td>['B003AVKOP2', 'B00D103F8U', 'B008F0SU0Y', 'B0...</td>\n      <td>[]</td>\n    </tr>\n    <tr>\n      <th>2</th>\n      <td>0123456479</td>\n      <td>SHINING IMAGE HUGE PINK LEATHER JEWELRY BOX / ...</td>\n      <td>64.98</td>\n      <td>http://ecx.images-amazon.com/images/I/413tGhqo...</td>\n      <td>NaN</td>\n      <td>Elegance par excellence. Hand-crafted of the f...</td>\n      <td>[['Clothing, Shoes &amp; Jewelry', 'Novelty, Costu...</td>\n      <td>clothing_shoes_jewellery</td>\n      <td>['B0006JCGUM', 'B000BMTCK6', 'B00194Q262', 'B0...</td>\n      <td>['B000BMTCK6', 'B0006JCGUM', 'B00194Q262', 'B0...</td>\n      <td>['B000BMTCK6', 'B0006JCGUM']</td>\n    </tr>\n    <tr>\n      <th>3</th>\n      <td>0456844570</td>\n      <td>RiZ Women's Beautify Crafted &amp;frac12; Rimmed F...</td>\n      <td>NaN</td>\n      <td>http://ecx.images-amazon.com/images/I/31QZTHxv...</td>\n      <td>NaN</td>\n      <td>NaN</td>\n      <td>[['Clothing, Shoes &amp; Jewelry', 'Women', 'Acces...</td>\n      <td>clothing_shoes_jewellery</td>\n      <td>['B004UOPY80', 'B00G2LY6OC', 'B00877BFFM', 'B0...</td>\n      <td>NaN</td>\n      <td>NaN</td>\n    </tr>\n    <tr>\n      <th>4</th>\n      <td>0456808574</td>\n      <td>Lantin White Visor Wrap Around Ski Style Aviat...</td>\n      <td>NaN</td>\n      <td>http://ecx.images-amazon.com/images/I/31UsrgT5...</td>\n      <td>NaN</td>\n      <td>NaN</td>\n      <td>[['Clothing, Shoes &amp; Jewelry', 'Women', 'Acces...</td>\n      <td>clothing_shoes_jewellery</td>\n      <td>['B005WF42SY', 'B003T1CFF0', 'B006AZCMUA', 'B0...</td>\n      <td>NaN</td>\n      <td>NaN</td>\n    </tr>\n  </tbody>\n</table>\n</div>"
     },
     "execution_count": 44,
     "metadata": {},
     "output_type": "execute_result"
    }
   ],
   "source": [
    "products_pd.head()"
   ],
   "metadata": {
    "collapsed": false,
    "ExecuteTime": {
     "end_time": "2023-12-10T06:57:29.102338200Z",
     "start_time": "2023-12-10T06:57:28.975559700Z"
    }
   },
   "id": "3870d2c01ff8f38b"
  },
  {
   "cell_type": "code",
   "execution_count": 28,
   "outputs": [
    {
     "data": {
      "text/plain": "   overall      reviewerID        asin        date  helpfulness_ratio\n0        5  A2XVJBSRI3SWDI  0000031887  2013-11-04                0.0\n1        2  A2R3K1KX09QBYP  0000031887  2013-02-17                1.0\n2        1   A19PBP93OF896  0000031887  2013-03-21                0.0\n3        4  A1P0IHU93EF9ZK  0000031887  2014-01-23                0.0\n4        5  A2G5TCU2WDFZ65  0000031887  2013-01-19                0.0",
      "text/html": "<div>\n<style scoped>\n    .dataframe tbody tr th:only-of-type {\n        vertical-align: middle;\n    }\n\n    .dataframe tbody tr th {\n        vertical-align: top;\n    }\n\n    .dataframe thead th {\n        text-align: right;\n    }\n</style>\n<table border=\"1\" class=\"dataframe\">\n  <thead>\n    <tr style=\"text-align: right;\">\n      <th></th>\n      <th>overall</th>\n      <th>reviewerID</th>\n      <th>asin</th>\n      <th>date</th>\n      <th>helpfulness_ratio</th>\n    </tr>\n  </thead>\n  <tbody>\n    <tr>\n      <th>0</th>\n      <td>5</td>\n      <td>A2XVJBSRI3SWDI</td>\n      <td>0000031887</td>\n      <td>2013-11-04</td>\n      <td>0.0</td>\n    </tr>\n    <tr>\n      <th>1</th>\n      <td>2</td>\n      <td>A2R3K1KX09QBYP</td>\n      <td>0000031887</td>\n      <td>2013-02-17</td>\n      <td>1.0</td>\n    </tr>\n    <tr>\n      <th>2</th>\n      <td>1</td>\n      <td>A19PBP93OF896</td>\n      <td>0000031887</td>\n      <td>2013-03-21</td>\n      <td>0.0</td>\n    </tr>\n    <tr>\n      <th>3</th>\n      <td>4</td>\n      <td>A1P0IHU93EF9ZK</td>\n      <td>0000031887</td>\n      <td>2014-01-23</td>\n      <td>0.0</td>\n    </tr>\n    <tr>\n      <th>4</th>\n      <td>5</td>\n      <td>A2G5TCU2WDFZ65</td>\n      <td>0000031887</td>\n      <td>2013-01-19</td>\n      <td>0.0</td>\n    </tr>\n  </tbody>\n</table>\n</div>"
     },
     "execution_count": 28,
     "metadata": {},
     "output_type": "execute_result"
    }
   ],
   "source": [
    "user_product_edge_pd.head()"
   ],
   "metadata": {
    "collapsed": false,
    "ExecuteTime": {
     "end_time": "2023-12-10T06:36:48.052433800Z",
     "start_time": "2023-12-10T06:36:48.002474600Z"
    }
   },
   "id": "bf833bfa716e1f04"
  },
  {
   "cell_type": "code",
   "execution_count": 15,
   "outputs": [
    {
     "data": {
      "text/plain": "         asin also_bought\n0  0000031887  B003AVKOP2\n1  0000031887  B00D103F8U\n2  0000031887  B008F0SU0Y\n3  0000031887  B003AVEU6G\n4  0000031887  B002C3Y6WG",
      "text/html": "<div>\n<style scoped>\n    .dataframe tbody tr th:only-of-type {\n        vertical-align: middle;\n    }\n\n    .dataframe tbody tr th {\n        vertical-align: top;\n    }\n\n    .dataframe thead th {\n        text-align: right;\n    }\n</style>\n<table border=\"1\" class=\"dataframe\">\n  <thead>\n    <tr style=\"text-align: right;\">\n      <th></th>\n      <th>asin</th>\n      <th>also_bought</th>\n    </tr>\n  </thead>\n  <tbody>\n    <tr>\n      <th>0</th>\n      <td>0000031887</td>\n      <td>B003AVKOP2</td>\n    </tr>\n    <tr>\n      <th>1</th>\n      <td>0000031887</td>\n      <td>B00D103F8U</td>\n    </tr>\n    <tr>\n      <th>2</th>\n      <td>0000031887</td>\n      <td>B008F0SU0Y</td>\n    </tr>\n    <tr>\n      <th>3</th>\n      <td>0000031887</td>\n      <td>B003AVEU6G</td>\n    </tr>\n    <tr>\n      <th>4</th>\n      <td>0000031887</td>\n      <td>B002C3Y6WG</td>\n    </tr>\n  </tbody>\n</table>\n</div>"
     },
     "execution_count": 15,
     "metadata": {},
     "output_type": "execute_result"
    }
   ],
   "source": [
    "also_bought_edges_pd.head()"
   ],
   "metadata": {
    "collapsed": false,
    "ExecuteTime": {
     "end_time": "2023-12-10T06:29:56.673675800Z",
     "start_time": "2023-12-10T06:29:56.626442300Z"
    }
   },
   "id": "c4b9d7ccf1fe8e5e"
  },
  {
   "cell_type": "code",
   "execution_count": 17,
   "outputs": [
    {
     "data": {
      "text/plain": "         asin also_viewed\n0  0000037214  B00JO8II76\n1  0000031887  B00538F5OK\n2  0000031887  B003AVKOP2\n3  0000031887  B008F0SU0Y\n4  0000031887  B002GZPTRQ",
      "text/html": "<div>\n<style scoped>\n    .dataframe tbody tr th:only-of-type {\n        vertical-align: middle;\n    }\n\n    .dataframe tbody tr th {\n        vertical-align: top;\n    }\n\n    .dataframe thead th {\n        text-align: right;\n    }\n</style>\n<table border=\"1\" class=\"dataframe\">\n  <thead>\n    <tr style=\"text-align: right;\">\n      <th></th>\n      <th>asin</th>\n      <th>also_viewed</th>\n    </tr>\n  </thead>\n  <tbody>\n    <tr>\n      <th>0</th>\n      <td>0000037214</td>\n      <td>B00JO8II76</td>\n    </tr>\n    <tr>\n      <th>1</th>\n      <td>0000031887</td>\n      <td>B00538F5OK</td>\n    </tr>\n    <tr>\n      <th>2</th>\n      <td>0000031887</td>\n      <td>B003AVKOP2</td>\n    </tr>\n    <tr>\n      <th>3</th>\n      <td>0000031887</td>\n      <td>B008F0SU0Y</td>\n    </tr>\n    <tr>\n      <th>4</th>\n      <td>0000031887</td>\n      <td>B002GZPTRQ</td>\n    </tr>\n  </tbody>\n</table>\n</div>"
     },
     "execution_count": 17,
     "metadata": {},
     "output_type": "execute_result"
    }
   ],
   "source": [
    "also_viewed_edges_pd.head()"
   ],
   "metadata": {
    "collapsed": false,
    "ExecuteTime": {
     "end_time": "2023-12-10T06:30:18.609935200Z",
     "start_time": "2023-12-10T06:30:18.502869Z"
    }
   },
   "id": "c74ee1713a997934"
  },
  {
   "cell_type": "code",
   "execution_count": 18,
   "outputs": [
    {
     "data": {
      "text/plain": "         asin bought_together\n0  0123456479      B000BMTCK6\n1  0123456479      B0006JCGUM\n2  1608322130      B003USWPHA\n3  245600258X      B004LK9GZ0\n4  3293015344      B007VE0OI6",
      "text/html": "<div>\n<style scoped>\n    .dataframe tbody tr th:only-of-type {\n        vertical-align: middle;\n    }\n\n    .dataframe tbody tr th {\n        vertical-align: top;\n    }\n\n    .dataframe thead th {\n        text-align: right;\n    }\n</style>\n<table border=\"1\" class=\"dataframe\">\n  <thead>\n    <tr style=\"text-align: right;\">\n      <th></th>\n      <th>asin</th>\n      <th>bought_together</th>\n    </tr>\n  </thead>\n  <tbody>\n    <tr>\n      <th>0</th>\n      <td>0123456479</td>\n      <td>B000BMTCK6</td>\n    </tr>\n    <tr>\n      <th>1</th>\n      <td>0123456479</td>\n      <td>B0006JCGUM</td>\n    </tr>\n    <tr>\n      <th>2</th>\n      <td>1608322130</td>\n      <td>B003USWPHA</td>\n    </tr>\n    <tr>\n      <th>3</th>\n      <td>245600258X</td>\n      <td>B004LK9GZ0</td>\n    </tr>\n    <tr>\n      <th>4</th>\n      <td>3293015344</td>\n      <td>B007VE0OI6</td>\n    </tr>\n  </tbody>\n</table>\n</div>"
     },
     "execution_count": 18,
     "metadata": {},
     "output_type": "execute_result"
    }
   ],
   "source": [
    "bought_together_edges_pd.head()"
   ],
   "metadata": {
    "collapsed": false,
    "ExecuteTime": {
     "end_time": "2023-12-10T06:30:28.291280800Z",
     "start_time": "2023-12-10T06:30:28.236956800Z"
    }
   },
   "id": "fa8d0c421fd3c20e"
  },
  {
   "cell_type": "code",
   "execution_count": 55,
   "outputs": [],
   "source": [
    "class AsinIdMap:\n",
    "    def __init__(self, products_pd):\n",
    "        self.products_pd = products_pd\n",
    "        self.asin_to_idx = {}\n",
    "        self.product_idx_to_asin = {}\n",
    "        self._build()\n",
    "    \n",
    "    def _build(self):\n",
    "        for idx, row in self.products_pd.iterrows():\n",
    "            self.asin_to_idx[row['asin']] = idx\n",
    "            self.product_idx_to_asin[idx] = row['asin']\n",
    "    \n",
    "    def get_idx(self, asin):\n",
    "        return self.asin_to_idx[asin]\n",
    "    \n",
    "    def get_asin(self, product_idx):\n",
    "        return self.product_idx_to_asin[product_idx]\n",
    "    \n",
    "    def get_count(self):\n",
    "        return len(self.asin_to_idx)\n",
    "    \n",
    "class UserIdMap:\n",
    "    def __init__(self, users_pd, offset=0):\n",
    "        self.users_pd = users_pd\n",
    "        self.user_id_to_idx = {}\n",
    "        self.user_idx_to_id = {}\n",
    "        self.offset = offset\n",
    "        self._build()\n",
    "    \n",
    "    def _build(self):\n",
    "        for idx, row in self.users_pd.iterrows():\n",
    "            self.user_id_to_idx[row['reviewerID']] = self.offset + idx\n",
    "            self.user_idx_to_id[idx] = row['reviewerID']\n",
    "    \n",
    "    def get_idx(self, user_id):\n",
    "        return self.user_id_to_idx[user_id]\n",
    "    \n",
    "    def get_reviewer_id(self, user_idx):\n",
    "        return self.user_idx_to_id[user_idx]\n",
    "\n",
    "def build_product_to_product_edge_index(edges_pd, asin_id_map, right_key):\n",
    "    product_to_product_edge_index = []\n",
    "    errors = []\n",
    "    for idx, row in edges_pd.iterrows():\n",
    "        try:\n",
    "            asin1 = row['asin']\n",
    "            product1_idx = asin_id_map.get_idx(asin1)\n",
    "        except:\n",
    "            errors.append(f\"Cannot map {asin1} to product idx\")\n",
    "            continue\n",
    "        \n",
    "        try:\n",
    "            asin2 = row[right_key]\n",
    "            product2_idx = asin_id_map.get_idx(asin2)\n",
    "        except:\n",
    "            errors.append(f\"Cannot map {asin2} to product idx\")\n",
    "            continue\n",
    "            \n",
    "        product_to_product_edge_index.append([product1_idx, product2_idx])\n",
    "        \n",
    "    return torch.tensor(product_to_product_edge_index).t().contiguous(), errors\n",
    "    \n",
    "def build_user_product_edge_index(user_product_edge_pd, asin_id_map, user_id_map):\n",
    "    user_product_edge_index = []\n",
    "    errors = []\n",
    "    for idx, row in user_product_edge_pd.iterrows():\n",
    "        try:\n",
    "            user_idx = user_id_map.get_idx(row['reviewerID'])\n",
    "        except:\n",
    "            errors.append(f\"Cannot map {row['reviewerID'] } to user idx\")\n",
    "            continue\n",
    "            \n",
    "        try:\n",
    "            product_idx = asin_id_map.get_idx(row['asin'])\n",
    "        except:\n",
    "            errors.append(f\"Cannot map {row['asin'] } to product idx\")\n",
    "            continue\n",
    "            \n",
    "        user_product_edge_index.append([user_idx, product_idx])\n",
    "        \n",
    "    return torch.tensor(user_product_edge_index).t().contiguous(), errors"
   ],
   "metadata": {
    "collapsed": false,
    "ExecuteTime": {
     "end_time": "2023-12-10T07:17:55.511313300Z",
     "start_time": "2023-12-10T07:17:55.452138100Z"
    }
   },
   "id": "a231802ba3826dd"
  },
  {
   "cell_type": "code",
   "execution_count": 45,
   "outputs": [],
   "source": [
    "asin_id_map = AsinIdMap(products_pd)"
   ],
   "metadata": {
    "collapsed": false,
    "ExecuteTime": {
     "end_time": "2023-12-10T06:59:01.966268600Z",
     "start_time": "2023-12-10T06:57:36.235622700Z"
    }
   },
   "id": "3b02c39264176a50"
  },
  {
   "cell_type": "code",
   "execution_count": 38,
   "outputs": [],
   "source": [
    "user_id_map = UserIdMap(users_pd, offset=asin_id_map.get_count())"
   ],
   "metadata": {
    "collapsed": false,
    "ExecuteTime": {
     "end_time": "2023-12-10T06:45:35.664490100Z",
     "start_time": "2023-12-10T06:41:41.509121700Z"
    }
   },
   "id": "a6d830c606d8244f"
  },
  {
   "cell_type": "code",
   "execution_count": 52,
   "outputs": [],
   "source": [
    "user_product_edge_tensor, errors = build_user_product_edge_index(user_product_edge_pd, asin_id_map, user_id_map)"
   ],
   "metadata": {
    "collapsed": false,
    "ExecuteTime": {
     "end_time": "2023-12-10T07:12:54.482937100Z",
     "start_time": "2023-12-10T07:06:29.058958100Z"
    }
   },
   "id": "829ab7e53cd2f754"
  },
  {
   "cell_type": "code",
   "execution_count": null,
   "outputs": [],
   "source": [
    "also_bought_edges_tensor, errors =  build_product_to_product_edge_index(also_bought_edges_pd, asin_id_map, 'also_bought')"
   ],
   "metadata": {
    "collapsed": false,
    "is_executing": true,
    "ExecuteTime": {
     "start_time": "2023-12-10T07:19:23.890089200Z"
    }
   },
   "id": "68d0735773f977de"
  },
  {
   "cell_type": "code",
   "execution_count": null,
   "outputs": [],
   "source": [
    "also_viewed_edges_tensor, errors =  build_product_to_product_edge_index(also_viewed_edges_pd, asin_id_map, 'also_viewed')"
   ],
   "metadata": {
    "collapsed": false
   },
   "id": "cdcd510fb9e0e4a3"
  },
  {
   "cell_type": "code",
   "execution_count": null,
   "outputs": [],
   "source": [
    "bought_together_edges_tensor, errors =  build_product_to_product_edge_index(bought_together_edges_pd, asin_id_map, 'bought_together')"
   ],
   "metadata": {
    "collapsed": false
   },
   "id": "b165c9e5b6f280a"
  },
  {
   "cell_type": "code",
   "execution_count": 3,
   "outputs": [],
   "source": [
    "data = HeteroData()"
   ],
   "metadata": {
    "collapsed": false
   },
   "id": "513b3c02444bab26"
  },
  {
   "cell_type": "code",
   "execution_count": 6,
   "outputs": [
    {
     "data": {
      "text/plain": "HeteroData(\n  product={ x=[100, 128] },\n  (product, also_viewed, product)={ edge_index=[2, 1000] },\n  (product, bought_together, product)={ edge_index=[2, 1000] },\n  (product, also_bought, product)={ edge_index=[2, 1000] }\n)"
     },
     "execution_count": 6,
     "metadata": {},
     "output_type": "execute_result"
    }
   ],
   "source": [
    "# Dimension for product features\n",
    "product_feature_dim = 128\n",
    "num_products = len(products_pd)\n",
    "\n",
    "num_edges_also_viewed = 1000\n",
    "num_edges_bought_together = 1000\n",
    "num_edges_also_bought = 1000\n",
    "\n",
    "data['product'].x = torch.randn(num_products, product_feature_dim)\n",
    "\n",
    "\n",
    "data['product', 'also_viewed', 'product'].edge_index = also_viewed_edges_tensor\n",
    "data['product', 'bought_together', 'product'].edge_index = bought_together_edges_tensor\n",
    "data['product', 'also_bought', 'product'].edge_index = also_bought_edges_tensor\n",
    "\n",
    "data"
   ],
   "metadata": {
    "collapsed": false,
    "ExecuteTime": {
     "end_time": "2023-12-10T05:58:59.896150400Z",
     "start_time": "2023-12-10T05:58:59.822722800Z"
    }
   },
   "id": "bdea54ef137eec53"
  }
 ],
 "metadata": {
  "kernelspec": {
   "display_name": "Python 3",
   "language": "python",
   "name": "python3"
  },
  "language_info": {
   "codemirror_mode": {
    "name": "ipython",
    "version": 2
   },
   "file_extension": ".py",
   "mimetype": "text/x-python",
   "name": "python",
   "nbconvert_exporter": "python",
   "pygments_lexer": "ipython2",
   "version": "2.7.6"
  }
 },
 "nbformat": 4,
 "nbformat_minor": 5
}
