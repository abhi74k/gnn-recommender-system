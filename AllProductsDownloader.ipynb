{
 "cells": [
  {
   "cell_type": "code",
   "execution_count": null,
   "id": "initial_id",
   "metadata": {
    "ExecuteTime": {
     "end_time": "2023-11-21T13:32:56.491246402Z",
     "start_time": "2023-11-21T13:32:56.443391623Z"
    },
    "collapsed": true
   },
   "outputs": [],
   "source": [
    "import numpy as np\n",
    "from dataset_utils import create_all_products_csv, create_amazon_category_metadata\n",
    "from pandarallel import pandarallel\n",
    "pandarallel.initialize(progress_bar=True)"
   ]
  },
  {
   "cell_type": "markdown",
   "id": "26b48941",
   "metadata": {},
   "source": [
    "### Reads raw amazon data files and produces a CSV of products in clothing_shoes_jewellery. Each row contains product information indexed by ASIN(unique product id)"
   ]
  },
  {
   "cell_type": "code",
   "execution_count": null,
   "id": "d1c86e58b002242c",
   "metadata": {
    "ExecuteTime": {
     "end_time": "2023-11-21T13:35:51.787208613Z",
     "start_time": "2023-11-21T13:32:58.342282190Z"
    },
    "collapsed": false
   },
   "outputs": [],
   "source": [
    "category = 'clothing_shoes_jewellery'\n",
    "path_to_download = r\"/home/abhinav/amazon_dataset\"\n",
    "metadata = create_amazon_category_metadata()\n",
    "create_all_products_csv(metadata, category, path_to_download)"
   ]
  }
 ],
 "metadata": {
  "kernelspec": {
   "display_name": "Python 3",
   "language": "python",
   "name": "python3"
  },
  "language_info": {
   "codemirror_mode": {
    "name": "ipython",
    "version": 2
   },
   "file_extension": ".py",
   "mimetype": "text/x-python",
   "name": "python",
   "nbconvert_exporter": "python",
   "pygments_lexer": "ipython2",
   "version": "2.7.6"
  }
 },
 "nbformat": 4,
 "nbformat_minor": 5
}
