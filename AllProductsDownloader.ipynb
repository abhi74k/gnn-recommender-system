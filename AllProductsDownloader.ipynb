{
 "cells": [
  {
   "cell_type": "code",
   "execution_count": 4,
   "id": "initial_id",
   "metadata": {
    "collapsed": true,
    "ExecuteTime": {
     "end_time": "2023-11-20T04:46:57.578978640Z",
     "start_time": "2023-11-20T04:46:57.429406201Z"
    }
   },
   "outputs": [],
   "source": [
    "import numpy as np\n",
    "from dataset_utils import create_all_products_csv, create_amazon_category_metadata"
   ]
  },
  {
   "cell_type": "code",
   "execution_count": null,
   "outputs": [
    {
     "name": "stdout",
     "output_type": "stream",
     "text": [
      "Filtering also_bought, also_viewed and also_viewed that are not present in the products\n"
     ]
    }
   ],
   "source": [
    "category = 'clothing_shoes_jewellery'\n",
    "path_to_download = r\"/home/abhinav/amazon_dataset\"\n",
    "metadata = create_amazon_category_metadata()\n",
    "create_all_products_csv(metadata, category, path_to_download)"
   ],
   "metadata": {
    "collapsed": false,
    "is_executing": true,
    "ExecuteTime": {
     "start_time": "2023-11-20T04:47:03.293607258Z"
    }
   },
   "id": "d1c86e58b002242c"
  }
 ],
 "metadata": {
  "kernelspec": {
   "display_name": "Python 3",
   "language": "python",
   "name": "python3"
  },
  "language_info": {
   "codemirror_mode": {
    "name": "ipython",
    "version": 2
   },
   "file_extension": ".py",
   "mimetype": "text/x-python",
   "name": "python",
   "nbconvert_exporter": "python",
   "pygments_lexer": "ipython2",
   "version": "2.7.6"
  }
 },
 "nbformat": 4,
 "nbformat_minor": 5
}
