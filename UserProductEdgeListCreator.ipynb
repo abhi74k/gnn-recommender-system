{
 "cells": [
  {
   "cell_type": "code",
   "execution_count": 1,
   "id": "initial_id",
   "metadata": {
    "collapsed": true,
    "ExecuteTime": {
     "end_time": "2023-11-24T01:01:31.126993232Z",
     "start_time": "2023-11-24T01:01:30.773989881Z"
    }
   },
   "outputs": [
    {
     "name": "stdout",
     "output_type": "stream",
     "text": [
      "INFO: Pandarallel will run on 28 workers.\n",
      "INFO: Pandarallel will use Memory file system to transfer data between the main process and workers.\n"
     ]
    }
   ],
   "source": [
    "from dataset_utils import create_amazon_category_metadata, create_amazon_category\n",
    "import numpy as np\n",
    "import matplotlib.pyplot as plt\n",
    "import os\n",
    "%matplotlib inline"
   ]
  },
  {
   "cell_type": "code",
   "execution_count": 2,
   "outputs": [],
   "source": [
    "category = 'clothing_shoes_jewellery'\n",
    "path_to_download = r\"/home/abhinav/amazon_dataset\""
   ],
   "metadata": {
    "collapsed": false,
    "ExecuteTime": {
     "end_time": "2023-11-24T01:01:37.948264386Z",
     "start_time": "2023-11-24T01:01:37.940951541Z"
    }
   },
   "id": "80e80d3497473ddd"
  },
  {
   "cell_type": "markdown",
   "source": [
    "### Create category to explore the data"
   ],
   "metadata": {
    "collapsed": false
   },
   "id": "fa8f67239561762a"
  },
  {
   "cell_type": "code",
   "execution_count": 4,
   "outputs": [
    {
     "name": "stdout",
     "output_type": "stream",
     "text": [
      "Reading users.csv\n",
      "Reading products.csv\n"
     ]
    },
    {
     "data": {
      "text/plain": "VBox(children=(HBox(children=(IntProgress(value=0, description='0.00%', max=23080), Label(value='0 / 23080')))…",
      "application/vnd.jupyter.widget-view+json": {
       "version_major": 2,
       "version_minor": 0,
       "model_id": "790d3eff44184db9af61de6e0d900fe9"
      }
     },
     "metadata": {},
     "output_type": "display_data"
    },
    {
     "data": {
      "text/plain": "VBox(children=(HBox(children=(IntProgress(value=0, description='0.00%', max=23080), Label(value='0 / 23080')))…",
      "application/vnd.jupyter.widget-view+json": {
       "version_major": 2,
       "version_minor": 0,
       "model_id": "59658578d70c4e31b4adea024d9ae070"
      }
     },
     "metadata": {},
     "output_type": "display_data"
    },
    {
     "data": {
      "text/plain": "VBox(children=(HBox(children=(IntProgress(value=0, description='0.00%', max=23080), Label(value='0 / 23080')))…",
      "application/vnd.jupyter.widget-view+json": {
       "version_major": 2,
       "version_minor": 0,
       "model_id": "7504fa8ba543436fb8cfb1d383352a75"
      }
     },
     "metadata": {},
     "output_type": "display_data"
    },
    {
     "data": {
      "text/plain": "VBox(children=(HBox(children=(IntProgress(value=0, description='0.00%', max=23080), Label(value='0 / 23080')))…",
      "application/vnd.jupyter.widget-view+json": {
       "version_major": 2,
       "version_minor": 0,
       "model_id": "ff92a14e6f81433b8717ec7e96ce2eac"
      }
     },
     "metadata": {},
     "output_type": "display_data"
    }
   ],
   "source": [
    "amazon_category = create_amazon_category(create_amazon_category_metadata(),\n",
    "                                         category,\n",
    "                                         path_to_download)"
   ],
   "metadata": {
    "collapsed": false,
    "ExecuteTime": {
     "end_time": "2023-11-24T01:02:37.023100628Z",
     "start_time": "2023-11-24T01:02:18.771986207Z"
    }
   },
   "id": "4c484b77438d786c"
  },
  {
   "cell_type": "markdown",
   "source": [
    "### Review data(Users)"
   ],
   "metadata": {
    "collapsed": false
   },
   "id": "f227b66989981dad"
  },
  {
   "cell_type": "code",
   "execution_count": 11,
   "outputs": [
    {
     "name": "stdout",
     "output_type": "stream",
     "text": [
      "Read len(review_df) rows\n"
     ]
    },
    {
     "data": {
      "text/plain": "   overall      reviewerID        asin        date  helpfulness_ratio\n0        5  A2XVJBSRI3SWDI  0000031887  2013-11-04                0.0\n1        2  A2R3K1KX09QBYP  0000031887  2013-02-17                1.0\n2        1   A19PBP93OF896  0000031887  2013-03-21                0.0\n3        4  A1P0IHU93EF9ZK  0000031887  2014-01-23                0.0\n4        5  A2G5TCU2WDFZ65  0000031887  2013-01-19                0.0",
      "text/html": "<div>\n<style scoped>\n    .dataframe tbody tr th:only-of-type {\n        vertical-align: middle;\n    }\n\n    .dataframe tbody tr th {\n        vertical-align: top;\n    }\n\n    .dataframe thead th {\n        text-align: right;\n    }\n</style>\n<table border=\"1\" class=\"dataframe\">\n  <thead>\n    <tr style=\"text-align: right;\">\n      <th></th>\n      <th>overall</th>\n      <th>reviewerID</th>\n      <th>asin</th>\n      <th>date</th>\n      <th>helpfulness_ratio</th>\n    </tr>\n  </thead>\n  <tbody>\n    <tr>\n      <th>0</th>\n      <td>5</td>\n      <td>A2XVJBSRI3SWDI</td>\n      <td>0000031887</td>\n      <td>2013-11-04</td>\n      <td>0.0</td>\n    </tr>\n    <tr>\n      <th>1</th>\n      <td>2</td>\n      <td>A2R3K1KX09QBYP</td>\n      <td>0000031887</td>\n      <td>2013-02-17</td>\n      <td>1.0</td>\n    </tr>\n    <tr>\n      <th>2</th>\n      <td>1</td>\n      <td>A19PBP93OF896</td>\n      <td>0000031887</td>\n      <td>2013-03-21</td>\n      <td>0.0</td>\n    </tr>\n    <tr>\n      <th>3</th>\n      <td>4</td>\n      <td>A1P0IHU93EF9ZK</td>\n      <td>0000031887</td>\n      <td>2014-01-23</td>\n      <td>0.0</td>\n    </tr>\n    <tr>\n      <th>4</th>\n      <td>5</td>\n      <td>A2G5TCU2WDFZ65</td>\n      <td>0000031887</td>\n      <td>2013-01-19</td>\n      <td>0.0</td>\n    </tr>\n  </tbody>\n</table>\n</div>"
     },
     "execution_count": 11,
     "metadata": {},
     "output_type": "execute_result"
    }
   ],
   "source": [
    "review_df = amazon_category.review_df\n",
    "print(f\"Read len(review_df) rows\")\n",
    "review_df.to_csv(os.path.join(path_to_download, category, f\"user_product_edges.csv\"), index=False)\n",
    "review_df.head()"
   ],
   "metadata": {
    "collapsed": false,
    "ExecuteTime": {
     "end_time": "2023-11-24T01:06:45.970831374Z",
     "start_time": "2023-11-24T01:06:42.552297385Z"
    }
   },
   "id": "89978378cf735a9e"
  }
 ],
 "metadata": {
  "kernelspec": {
   "display_name": "Python 3",
   "language": "python",
   "name": "python3"
  },
  "language_info": {
   "codemirror_mode": {
    "name": "ipython",
    "version": 2
   },
   "file_extension": ".py",
   "mimetype": "text/x-python",
   "name": "python",
   "nbconvert_exporter": "python",
   "pygments_lexer": "ipython2",
   "version": "2.7.6"
  }
 },
 "nbformat": 4,
 "nbformat_minor": 5
}
