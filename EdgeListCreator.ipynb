{
 "cells": [
  {
   "cell_type": "code",
   "execution_count": 1,
   "id": "initial_id",
   "metadata": {
    "collapsed": true,
    "ExecuteTime": {
     "end_time": "2023-11-24T00:51:54.874266549Z",
     "start_time": "2023-11-24T00:51:54.417993723Z"
    }
   },
   "outputs": [
    {
     "name": "stdout",
     "output_type": "stream",
     "text": [
      "INFO: Pandarallel will run on 28 workers.\n",
      "INFO: Pandarallel will use Memory file system to transfer data between the main process and workers.\n"
     ]
    }
   ],
   "source": [
    "from dataset_utils import create_amazon_category_metadata, create_amazon_category\n",
    "import numpy as np\n",
    "import matplotlib.pyplot as plt\n",
    "import os\n",
    "%matplotlib inline"
   ]
  },
  {
   "cell_type": "markdown",
   "source": [
    "### Specify the category and the path to download the dataset\n",
    "###### The list of categories can be found in AmazonCategoryMetadata.py|"
   ],
   "metadata": {
    "collapsed": false
   },
   "id": "2793bb330016d1fb"
  },
  {
   "cell_type": "code",
   "execution_count": 2,
   "outputs": [],
   "source": [
    "category = 'clothing_shoes_jewellery'\n",
    "path_to_download = r\"/home/abhinav/amazon_dataset\""
   ],
   "metadata": {
    "collapsed": false,
    "ExecuteTime": {
     "end_time": "2023-11-24T00:51:56.666676773Z",
     "start_time": "2023-11-24T00:51:56.660777799Z"
    }
   },
   "id": "128f46e2119d6040"
  },
  {
   "cell_type": "code",
   "execution_count": 3,
   "outputs": [
    {
     "name": "stdout",
     "output_type": "stream",
     "text": [
      "Reading all_products.csv\n"
     ]
    },
    {
     "data": {
      "text/plain": "VBox(children=(HBox(children=(IntProgress(value=0, description='0.00%', max=37755), Label(value='0 / 37755')))…",
      "application/vnd.jupyter.widget-view+json": {
       "version_major": 2,
       "version_minor": 0,
       "model_id": "84a8e6d63aec492b823be504e899bd3a"
      }
     },
     "metadata": {},
     "output_type": "display_data"
    },
    {
     "data": {
      "text/plain": "VBox(children=(HBox(children=(IntProgress(value=0, description='0.00%', max=37755), Label(value='0 / 37755')))…",
      "application/vnd.jupyter.widget-view+json": {
       "version_major": 2,
       "version_minor": 0,
       "model_id": "c6307c15e8a34d1bb5488f84dff0644d"
      }
     },
     "metadata": {},
     "output_type": "display_data"
    },
    {
     "data": {
      "text/plain": "VBox(children=(HBox(children=(IntProgress(value=0, description='0.00%', max=37755), Label(value='0 / 37755')))…",
      "application/vnd.jupyter.widget-view+json": {
       "version_major": 2,
       "version_minor": 0,
       "model_id": "a1cdcdbe2b1f4e4392f69f1f71936fae"
      }
     },
     "metadata": {},
     "output_type": "display_data"
    },
    {
     "data": {
      "text/plain": "VBox(children=(HBox(children=(IntProgress(value=0, description='0.00%', max=37755), Label(value='0 / 37755')))…",
      "application/vnd.jupyter.widget-view+json": {
       "version_major": 2,
       "version_minor": 0,
       "model_id": "e03d738885964f17b0b931e0f6a97518"
      }
     },
     "metadata": {},
     "output_type": "display_data"
    },
    {
     "name": "stdout",
     "output_type": "stream",
     "text": [
      "Done!!!. Read 1057123 rows\n"
     ]
    }
   ],
   "source": [
    "from dataset_utils import create_all_products_csv\n",
    "\n",
    "product_df = create_all_products_csv(create_amazon_category_metadata(),\n",
    "                                     category,\n",
    "                                     path_to_download)\n",
    "\n",
    "print(f\"Done!!!. Read {len(product_df)} rows\")"
   ],
   "metadata": {
    "collapsed": false,
    "ExecuteTime": {
     "end_time": "2023-11-24T00:52:24.124226004Z",
     "start_time": "2023-11-24T00:51:58.270985725Z"
    }
   },
   "id": "53ee29c8533e1981"
  },
  {
   "cell_type": "code",
   "execution_count": 4,
   "outputs": [
    {
     "data": {
      "text/plain": "         asin                                              title  price  \\\n0  0000037214  Purple Sequin Tiny Dancer Tutu Ballet Dance Fa...   6.99   \n1  0000031887                         Ballet Dress-Up Fairy Tutu   6.79   \n2  0123456479  SHINING IMAGE HUGE PINK LEATHER JEWELRY BOX / ...  64.98   \n3  0456844570  RiZ Women's Beautify Crafted &frac12; Rimmed F...    NaN   \n4  0456808574  Lantin White Visor Wrap Around Ski Style Aviat...    NaN   \n\n                                               imUrl           brand  \\\n0  http://ecx.images-amazon.com/images/I/31mCncNu...      Big Dreams   \n1  http://ecx.images-amazon.com/images/I/314qZjYe...  Boutique Cutie   \n2  http://ecx.images-amazon.com/images/I/413tGhqo...             NaN   \n3  http://ecx.images-amazon.com/images/I/31QZTHxv...             NaN   \n4  http://ecx.images-amazon.com/images/I/31UsrgT5...             NaN   \n\n                                         description  \\\n0                                                NaN   \n1  This adorable basic ballerina tutu is perfect ...   \n2  Elegance par excellence. Hand-crafted of the f...   \n3                                                NaN   \n4                                                NaN   \n\n                                          categories  \\\n0  [[Clothing, Shoes & Jewelry, Girls], [Clothing...   \n1  [[Clothing, Shoes & Jewelry, Girls, Clothing, ...   \n2  [[Clothing, Shoes & Jewelry, Novelty, Costumes...   \n3  [[Clothing, Shoes & Jewelry, Women, Accessorie...   \n4  [[Clothing, Shoes & Jewelry, Women, Accessorie...   \n\n                   category  \\\n0  clothing_shoes_jewellery   \n1  clothing_shoes_jewellery   \n2  clothing_shoes_jewellery   \n3  clothing_shoes_jewellery   \n4  clothing_shoes_jewellery   \n\n                                         also_viewed  \\\n0                                       [B00JO8II76]   \n1  [B00538F5OK, B003AVKOP2, B008F0SU0Y, B002GZPTR...   \n2  [B0006JCGUM, B000BMTCK6, B00194Q262, B00AMX5QR...   \n3   [B004UOPY80, B00G2LY6OC, B00877BFFM, B005P1FTAK]   \n4   [B005WF42SY, B003T1CFF0, B006AZCMUA, B00BD6M7P6]   \n\n                                         also_bought           bought_together  \n0                                                NaN                       NaN  \n1  [B003AVKOP2, B00D103F8U, B008F0SU0Y, B003AVEU6...                        []  \n2  [B000BMTCK6, B0006JCGUM, B00194Q262, B000P4DEY...  [B000BMTCK6, B0006JCGUM]  \n3                                                NaN                       NaN  \n4                                                NaN                       NaN  ",
      "text/html": "<div>\n<style scoped>\n    .dataframe tbody tr th:only-of-type {\n        vertical-align: middle;\n    }\n\n    .dataframe tbody tr th {\n        vertical-align: top;\n    }\n\n    .dataframe thead th {\n        text-align: right;\n    }\n</style>\n<table border=\"1\" class=\"dataframe\">\n  <thead>\n    <tr style=\"text-align: right;\">\n      <th></th>\n      <th>asin</th>\n      <th>title</th>\n      <th>price</th>\n      <th>imUrl</th>\n      <th>brand</th>\n      <th>description</th>\n      <th>categories</th>\n      <th>category</th>\n      <th>also_viewed</th>\n      <th>also_bought</th>\n      <th>bought_together</th>\n    </tr>\n  </thead>\n  <tbody>\n    <tr>\n      <th>0</th>\n      <td>0000037214</td>\n      <td>Purple Sequin Tiny Dancer Tutu Ballet Dance Fa...</td>\n      <td>6.99</td>\n      <td>http://ecx.images-amazon.com/images/I/31mCncNu...</td>\n      <td>Big Dreams</td>\n      <td>NaN</td>\n      <td>[[Clothing, Shoes &amp; Jewelry, Girls], [Clothing...</td>\n      <td>clothing_shoes_jewellery</td>\n      <td>[B00JO8II76]</td>\n      <td>NaN</td>\n      <td>NaN</td>\n    </tr>\n    <tr>\n      <th>1</th>\n      <td>0000031887</td>\n      <td>Ballet Dress-Up Fairy Tutu</td>\n      <td>6.79</td>\n      <td>http://ecx.images-amazon.com/images/I/314qZjYe...</td>\n      <td>Boutique Cutie</td>\n      <td>This adorable basic ballerina tutu is perfect ...</td>\n      <td>[[Clothing, Shoes &amp; Jewelry, Girls, Clothing, ...</td>\n      <td>clothing_shoes_jewellery</td>\n      <td>[B00538F5OK, B003AVKOP2, B008F0SU0Y, B002GZPTR...</td>\n      <td>[B003AVKOP2, B00D103F8U, B008F0SU0Y, B003AVEU6...</td>\n      <td>[]</td>\n    </tr>\n    <tr>\n      <th>2</th>\n      <td>0123456479</td>\n      <td>SHINING IMAGE HUGE PINK LEATHER JEWELRY BOX / ...</td>\n      <td>64.98</td>\n      <td>http://ecx.images-amazon.com/images/I/413tGhqo...</td>\n      <td>NaN</td>\n      <td>Elegance par excellence. Hand-crafted of the f...</td>\n      <td>[[Clothing, Shoes &amp; Jewelry, Novelty, Costumes...</td>\n      <td>clothing_shoes_jewellery</td>\n      <td>[B0006JCGUM, B000BMTCK6, B00194Q262, B00AMX5QR...</td>\n      <td>[B000BMTCK6, B0006JCGUM, B00194Q262, B000P4DEY...</td>\n      <td>[B000BMTCK6, B0006JCGUM]</td>\n    </tr>\n    <tr>\n      <th>3</th>\n      <td>0456844570</td>\n      <td>RiZ Women's Beautify Crafted &amp;frac12; Rimmed F...</td>\n      <td>NaN</td>\n      <td>http://ecx.images-amazon.com/images/I/31QZTHxv...</td>\n      <td>NaN</td>\n      <td>NaN</td>\n      <td>[[Clothing, Shoes &amp; Jewelry, Women, Accessorie...</td>\n      <td>clothing_shoes_jewellery</td>\n      <td>[B004UOPY80, B00G2LY6OC, B00877BFFM, B005P1FTAK]</td>\n      <td>NaN</td>\n      <td>NaN</td>\n    </tr>\n    <tr>\n      <th>4</th>\n      <td>0456808574</td>\n      <td>Lantin White Visor Wrap Around Ski Style Aviat...</td>\n      <td>NaN</td>\n      <td>http://ecx.images-amazon.com/images/I/31UsrgT5...</td>\n      <td>NaN</td>\n      <td>NaN</td>\n      <td>[[Clothing, Shoes &amp; Jewelry, Women, Accessorie...</td>\n      <td>clothing_shoes_jewellery</td>\n      <td>[B005WF42SY, B003T1CFF0, B006AZCMUA, B00BD6M7P6]</td>\n      <td>NaN</td>\n      <td>NaN</td>\n    </tr>\n  </tbody>\n</table>\n</div>"
     },
     "execution_count": 4,
     "metadata": {},
     "output_type": "execute_result"
    }
   ],
   "source": [
    "product_df.head()"
   ],
   "metadata": {
    "collapsed": false,
    "ExecuteTime": {
     "end_time": "2023-11-24T00:52:37.990980952Z",
     "start_time": "2023-11-24T00:52:37.947688420Z"
    }
   },
   "id": "539c0c359c8b0cf0"
  },
  {
   "cell_type": "markdown",
   "source": [
    "### Create asin -> also viewed edges csv"
   ],
   "metadata": {
    "collapsed": false
   },
   "id": "7d72106cfc6bbb13"
  },
  {
   "cell_type": "code",
   "execution_count": 6,
   "outputs": [
    {
     "data": {
      "text/plain": "         asin also_viewed\n0  0000037214  B00JO8II76\n1  0000031887  B00538F5OK\n1  0000031887  B003AVKOP2\n1  0000031887  B008F0SU0Y\n1  0000031887  B002GZPTRQ",
      "text/html": "<div>\n<style scoped>\n    .dataframe tbody tr th:only-of-type {\n        vertical-align: middle;\n    }\n\n    .dataframe tbody tr th {\n        vertical-align: top;\n    }\n\n    .dataframe thead th {\n        text-align: right;\n    }\n</style>\n<table border=\"1\" class=\"dataframe\">\n  <thead>\n    <tr style=\"text-align: right;\">\n      <th></th>\n      <th>asin</th>\n      <th>also_viewed</th>\n    </tr>\n  </thead>\n  <tbody>\n    <tr>\n      <th>0</th>\n      <td>0000037214</td>\n      <td>B00JO8II76</td>\n    </tr>\n    <tr>\n      <th>1</th>\n      <td>0000031887</td>\n      <td>B00538F5OK</td>\n    </tr>\n    <tr>\n      <th>1</th>\n      <td>0000031887</td>\n      <td>B003AVKOP2</td>\n    </tr>\n    <tr>\n      <th>1</th>\n      <td>0000031887</td>\n      <td>B008F0SU0Y</td>\n    </tr>\n    <tr>\n      <th>1</th>\n      <td>0000031887</td>\n      <td>B002GZPTRQ</td>\n    </tr>\n  </tbody>\n</table>\n</div>"
     },
     "execution_count": 6,
     "metadata": {},
     "output_type": "execute_result"
    }
   ],
   "source": [
    "also_viewed_edges = product_df[['asin', 'also_viewed']].explode('also_viewed')\n",
    "also_viewed_edges = also_viewed_edges[~also_viewed_edges['also_viewed'].isna()]\n",
    "also_viewed_edges.to_csv(os.path.join(path_to_download, category, 'also_viewed_edges.csv'), index=False)\n",
    "also_viewed_edges.head()"
   ],
   "metadata": {
    "collapsed": false,
    "ExecuteTime": {
     "end_time": "2023-11-24T00:57:54.762943745Z",
     "start_time": "2023-11-24T00:57:49.304028202Z"
    }
   },
   "id": "3e9fe3f04dd25df4"
  },
  {
   "cell_type": "markdown",
   "source": [
    "### Create asin -> also bought edges csv"
   ],
   "metadata": {
    "collapsed": false
   },
   "id": "c131fcb16f73f3c2"
  },
  {
   "cell_type": "code",
   "execution_count": 7,
   "outputs": [
    {
     "data": {
      "text/plain": "         asin also_bought\n1  0000031887  B003AVKOP2\n1  0000031887  B00D103F8U\n1  0000031887  B008F0SU0Y\n1  0000031887  B003AVEU6G\n1  0000031887  B002C3Y6WG",
      "text/html": "<div>\n<style scoped>\n    .dataframe tbody tr th:only-of-type {\n        vertical-align: middle;\n    }\n\n    .dataframe tbody tr th {\n        vertical-align: top;\n    }\n\n    .dataframe thead th {\n        text-align: right;\n    }\n</style>\n<table border=\"1\" class=\"dataframe\">\n  <thead>\n    <tr style=\"text-align: right;\">\n      <th></th>\n      <th>asin</th>\n      <th>also_bought</th>\n    </tr>\n  </thead>\n  <tbody>\n    <tr>\n      <th>1</th>\n      <td>0000031887</td>\n      <td>B003AVKOP2</td>\n    </tr>\n    <tr>\n      <th>1</th>\n      <td>0000031887</td>\n      <td>B00D103F8U</td>\n    </tr>\n    <tr>\n      <th>1</th>\n      <td>0000031887</td>\n      <td>B008F0SU0Y</td>\n    </tr>\n    <tr>\n      <th>1</th>\n      <td>0000031887</td>\n      <td>B003AVEU6G</td>\n    </tr>\n    <tr>\n      <th>1</th>\n      <td>0000031887</td>\n      <td>B002C3Y6WG</td>\n    </tr>\n  </tbody>\n</table>\n</div>"
     },
     "execution_count": 7,
     "metadata": {},
     "output_type": "execute_result"
    }
   ],
   "source": [
    "also_bought_edges = product_df[['asin', 'also_bought']].explode('also_bought')\n",
    "also_bought_edges = also_bought_edges[~also_bought_edges['also_bought'].isna()]\n",
    "also_bought_edges.to_csv(os.path.join(path_to_download, category, 'also_bought_edges.csv'), index=False)\n",
    "also_bought_edges.head()"
   ],
   "metadata": {
    "collapsed": false,
    "ExecuteTime": {
     "end_time": "2023-11-24T00:58:14.082437913Z",
     "start_time": "2023-11-24T00:58:10.437741449Z"
    }
   },
   "id": "46af56f597ce795f"
  },
  {
   "cell_type": "markdown",
   "source": [
    "### Create asin -> bought together edges csv"
   ],
   "metadata": {
    "collapsed": false
   },
   "id": "9f76016dd27a3c47"
  },
  {
   "cell_type": "code",
   "execution_count": 8,
   "outputs": [
    {
     "data": {
      "text/plain": "          asin bought_together\n2   0123456479      B000BMTCK6\n2   0123456479      B0006JCGUM\n31  1608322130      B003USWPHA\n58  245600258X      B004LK9GZ0\n59  3293015344      B007VE0OI6",
      "text/html": "<div>\n<style scoped>\n    .dataframe tbody tr th:only-of-type {\n        vertical-align: middle;\n    }\n\n    .dataframe tbody tr th {\n        vertical-align: top;\n    }\n\n    .dataframe thead th {\n        text-align: right;\n    }\n</style>\n<table border=\"1\" class=\"dataframe\">\n  <thead>\n    <tr style=\"text-align: right;\">\n      <th></th>\n      <th>asin</th>\n      <th>bought_together</th>\n    </tr>\n  </thead>\n  <tbody>\n    <tr>\n      <th>2</th>\n      <td>0123456479</td>\n      <td>B000BMTCK6</td>\n    </tr>\n    <tr>\n      <th>2</th>\n      <td>0123456479</td>\n      <td>B0006JCGUM</td>\n    </tr>\n    <tr>\n      <th>31</th>\n      <td>1608322130</td>\n      <td>B003USWPHA</td>\n    </tr>\n    <tr>\n      <th>58</th>\n      <td>245600258X</td>\n      <td>B004LK9GZ0</td>\n    </tr>\n    <tr>\n      <th>59</th>\n      <td>3293015344</td>\n      <td>B007VE0OI6</td>\n    </tr>\n  </tbody>\n</table>\n</div>"
     },
     "execution_count": 8,
     "metadata": {},
     "output_type": "execute_result"
    }
   ],
   "source": [
    "bought_together_edges = product_df[['asin', 'bought_together']].explode('bought_together')\n",
    "bought_together_edges = bought_together_edges[~bought_together_edges['bought_together'].isna()]\n",
    "bought_together_edges.to_csv(os.path.join(path_to_download, category, 'bought_together_edges.csv'), index=False)\n",
    "bought_together_edges.head()"
   ],
   "metadata": {
    "collapsed": false,
    "ExecuteTime": {
     "end_time": "2023-11-24T00:58:35.453116439Z",
     "start_time": "2023-11-24T00:58:34.689390900Z"
    }
   },
   "id": "9663c7ac18901138"
  }
 ],
 "metadata": {
  "kernelspec": {
   "display_name": "Python 3",
   "language": "python",
   "name": "python3"
  },
  "language_info": {
   "codemirror_mode": {
    "name": "ipython",
    "version": 2
   },
   "file_extension": ".py",
   "mimetype": "text/x-python",
   "name": "python",
   "nbconvert_exporter": "python",
   "pygments_lexer": "ipython2",
   "version": "2.7.6"
  }
 },
 "nbformat": 4,
 "nbformat_minor": 5
}
