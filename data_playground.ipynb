{
 "cells": [
  {
   "cell_type": "code",
   "execution_count": 1,
   "metadata": {},
   "outputs": [],
   "source": [
    "import pandas as pd\n",
    "import os\n",
    "from tqdm import tqdm\n",
    "import ast\n",
    "import warnings\n",
    "from concurrent.futures import ThreadPoolExecutor, as_completed\n",
    "from concurrent.futures import ProcessPoolExecutor, as_completed\n",
    "import numpy as np\n",
    "import torch\n"
   ]
  },
  {
   "cell_type": "code",
   "execution_count": 2,
   "metadata": {},
   "outputs": [],
   "source": [
    "def count_nodes_edges(co_purchase_df):\n",
    "    # Count unique nodes\n",
    "    unique_nodes = co_purchase_df['asin'].nunique()\n",
    "\n",
    "    # Count edges\n",
    "    edges = len(co_purchase_df['asin'])\n",
    "\n",
    "    return unique_nodes, edges"
   ]
  },
  {
   "cell_type": "code",
   "execution_count": 3,
   "metadata": {},
   "outputs": [],
   "source": [
    "# Load datasets\n",
    "all_details_df = pd.read_csv('amazon_dataset/clothing_shoes_jewellery/all_products.csv')\n",
    "co_purchase_df = pd.read_csv('bidirectional_links.csv')"
   ]
  },
  {
   "cell_type": "code",
   "execution_count": 4,
   "metadata": {},
   "outputs": [],
   "source": [
    "\n",
    "def count_bidirectional_links(df):\n",
    "    # Create a set of tuples for each link\n",
    "    links = set((row['asin'], row['also_bought']) for index, row in df.iterrows())\n",
    "\n",
    "    # Count bidirectional links\n",
    "    bidirectional_count = sum((b, a) in links for a, b in links)\n",
    "\n",
    "    # Since each bidirectional link is counted twice, divide by 2\n",
    "    return bidirectional_count // 2"
   ]
  },
  {
   "cell_type": "code",
   "execution_count": 5,
   "metadata": {},
   "outputs": [],
   "source": [
    "def process_amazon_data(input_df):\n",
    "    # Function to safely convert string to list\n",
    "    def convert_string_to_list(string):\n",
    "        try:\n",
    "            return ast.literal_eval(string)\n",
    "        except (ValueError, SyntaxError):\n",
    "            return []\n",
    "\n",
    "    # Step 1: Convert string representation of list to actual list and then expand\n",
    "    expanded_rows = []\n",
    "    for index, row in input_df.iterrows():\n",
    "        root_asin = row['asin']\n",
    "        also_bought_list = convert_string_to_list(row['also_bought'])\n",
    "        if also_bought_list:\n",
    "            for also_bought_asin in also_bought_list:\n",
    "                expanded_rows.append({'asin': root_asin, 'also_bought': also_bought_asin})\n",
    "\n",
    "    expanded_df = pd.DataFrame(expanded_rows)\n",
    "\n",
    "    # Step 2: Create reverse pairs\n",
    "    reverse_pairs = expanded_df.rename(columns={'asin': 'also_bought', 'also_bought': 'asin'})\n",
    "\n",
    "    # Step 3: Combine and remove duplicates\n",
    "    combined_df = pd.concat([expanded_df, reverse_pairs]).drop_duplicates().reset_index(drop=True)\n",
    "\n",
    "    return combined_df"
   ]
  },
  {
   "cell_type": "code",
   "execution_count": 6,
   "metadata": {},
   "outputs": [],
   "source": [
    "def reduce_to_k_core(co_purchase_df, k=5):\n",
    "    while True:\n",
    "        # Count connections for each ASIN\n",
    "        connection_counts = co_purchase_df['asin'].value_counts().add(co_purchase_df['also_bought'].value_counts(), fill_value=0)\n",
    "\n",
    "        # Identify nodes with fewer than k connections\n",
    "        underconnected_nodes = set(connection_counts[connection_counts < k].index)\n",
    "\n",
    "        if not underconnected_nodes:\n",
    "            break\n",
    "\n",
    "        # Filter out rows where ASINs have fewer than k connections\n",
    "        co_purchase_df = co_purchase_df[~co_purchase_df['asin'].isin(underconnected_nodes) & ~co_purchase_df['also_bought'].isin(underconnected_nodes)]\n",
    "\n",
    "    return co_purchase_df\n"
   ]
  },
  {
   "cell_type": "code",
   "execution_count": 7,
   "metadata": {},
   "outputs": [],
   "source": [
    "# Reduce to k-core and save to a new file\n",
    "k_core_df = reduce_to_k_core(co_purchase_df)\n"
   ]
  },
  {
   "cell_type": "code",
   "execution_count": 8,
   "metadata": {},
   "outputs": [],
   "source": [
    "def get_image_list(image_folder):\n",
    "    return set(os.listdir(image_folder))\n",
    "\n",
    "def has_required_data(asin, df, required_columns):\n",
    "    product = df[df['asin'] == asin]\n",
    "    if product.empty:\n",
    "        return False\n",
    "    return all(product[col].notna().values[0] for col in required_columns)\n",
    "\n",
    "def is_image_valid(asin, df, image_list):\n",
    "    product = df[df['asin'] == asin]\n",
    "    if product.empty or product['imUrl'].isna().values[0]:\n",
    "        return False\n",
    "    image_name = product['imUrl'].values[0].split('/')[-1]\n",
    "    return image_name in image_list\n",
    "\n"
   ]
  },
  {
   "cell_type": "code",
   "execution_count": 9,
   "metadata": {},
   "outputs": [],
   "source": [
    "def is_asin_valid(asin, co_purchase_df, all_details_df, image_folder, required_columns):\n",
    "    if asin in co_purchase_df['asin'].values:\n",
    "        if has_required_data(asin, all_details_df, required_columns) and is_image_valid(asin, all_details_df, image_folder):\n",
    "            return asin\n",
    "    return None\n"
   ]
  },
  {
   "cell_type": "code",
   "execution_count": 10,
   "metadata": {},
   "outputs": [],
   "source": [
    "image_list = get_image_list('/home/arnuv/amazon_dataset/clothing_shoes_jewellery/images')"
   ]
  },
  {
   "cell_type": "code",
   "execution_count": 11,
   "metadata": {},
   "outputs": [],
   "source": [
    "# Set 'asin' as the index for both DataFrames\n",
    "k_core_df.set_index('asin', inplace=True)\n",
    "all_details_df.set_index('asin', inplace=True)"
   ]
  },
  {
   "cell_type": "code",
   "execution_count": 12,
   "metadata": {},
   "outputs": [
    {
     "data": {
      "text/html": [
       "<div>\n",
       "<style scoped>\n",
       "    .dataframe tbody tr th:only-of-type {\n",
       "        vertical-align: middle;\n",
       "    }\n",
       "\n",
       "    .dataframe tbody tr th {\n",
       "        vertical-align: top;\n",
       "    }\n",
       "\n",
       "    .dataframe thead th {\n",
       "        text-align: right;\n",
       "    }\n",
       "</style>\n",
       "<table border=\"1\" class=\"dataframe\">\n",
       "  <thead>\n",
       "    <tr style=\"text-align: right;\">\n",
       "      <th></th>\n",
       "      <th>title</th>\n",
       "      <th>price</th>\n",
       "      <th>imUrl</th>\n",
       "      <th>brand</th>\n",
       "      <th>description</th>\n",
       "      <th>categories</th>\n",
       "      <th>category</th>\n",
       "      <th>also_viewed</th>\n",
       "      <th>also_bought</th>\n",
       "      <th>bought_together</th>\n",
       "    </tr>\n",
       "    <tr>\n",
       "      <th>asin</th>\n",
       "      <th></th>\n",
       "      <th></th>\n",
       "      <th></th>\n",
       "      <th></th>\n",
       "      <th></th>\n",
       "      <th></th>\n",
       "      <th></th>\n",
       "      <th></th>\n",
       "      <th></th>\n",
       "      <th></th>\n",
       "    </tr>\n",
       "  </thead>\n",
       "  <tbody>\n",
       "    <tr>\n",
       "      <th>0000037214</th>\n",
       "      <td>Purple Sequin Tiny Dancer Tutu Ballet Dance Fa...</td>\n",
       "      <td>6.99</td>\n",
       "      <td>http://ecx.images-amazon.com/images/I/31mCncNu...</td>\n",
       "      <td>Big Dreams</td>\n",
       "      <td>NaN</td>\n",
       "      <td>[['Clothing, Shoes &amp; Jewelry', 'Girls'], ['Clo...</td>\n",
       "      <td>clothing_shoes_jewellery</td>\n",
       "      <td>['B00JO8II76']</td>\n",
       "      <td>NaN</td>\n",
       "      <td>NaN</td>\n",
       "    </tr>\n",
       "    <tr>\n",
       "      <th>0000031887</th>\n",
       "      <td>Ballet Dress-Up Fairy Tutu</td>\n",
       "      <td>6.79</td>\n",
       "      <td>http://ecx.images-amazon.com/images/I/314qZjYe...</td>\n",
       "      <td>Boutique Cutie</td>\n",
       "      <td>This adorable basic ballerina tutu is perfect ...</td>\n",
       "      <td>[['Clothing, Shoes &amp; Jewelry', 'Girls', 'Cloth...</td>\n",
       "      <td>clothing_shoes_jewellery</td>\n",
       "      <td>['B00538F5OK', 'B003AVKOP2', 'B008F0SU0Y', 'B0...</td>\n",
       "      <td>['B003AVKOP2', 'B00D103F8U', 'B008F0SU0Y', 'B0...</td>\n",
       "      <td>[]</td>\n",
       "    </tr>\n",
       "    <tr>\n",
       "      <th>0123456479</th>\n",
       "      <td>SHINING IMAGE HUGE PINK LEATHER JEWELRY BOX / ...</td>\n",
       "      <td>64.98</td>\n",
       "      <td>http://ecx.images-amazon.com/images/I/413tGhqo...</td>\n",
       "      <td>NaN</td>\n",
       "      <td>Elegance par excellence. Hand-crafted of the f...</td>\n",
       "      <td>[['Clothing, Shoes &amp; Jewelry', 'Novelty, Costu...</td>\n",
       "      <td>clothing_shoes_jewellery</td>\n",
       "      <td>['B0006JCGUM', 'B000BMTCK6', 'B00194Q262', 'B0...</td>\n",
       "      <td>['B000BMTCK6', 'B0006JCGUM', 'B00194Q262', 'B0...</td>\n",
       "      <td>['B000BMTCK6', 'B0006JCGUM']</td>\n",
       "    </tr>\n",
       "    <tr>\n",
       "      <th>0456844570</th>\n",
       "      <td>RiZ Women's Beautify Crafted &amp;frac12; Rimmed F...</td>\n",
       "      <td>NaN</td>\n",
       "      <td>http://ecx.images-amazon.com/images/I/31QZTHxv...</td>\n",
       "      <td>NaN</td>\n",
       "      <td>NaN</td>\n",
       "      <td>[['Clothing, Shoes &amp; Jewelry', 'Women', 'Acces...</td>\n",
       "      <td>clothing_shoes_jewellery</td>\n",
       "      <td>['B004UOPY80', 'B00G2LY6OC', 'B00877BFFM', 'B0...</td>\n",
       "      <td>NaN</td>\n",
       "      <td>NaN</td>\n",
       "    </tr>\n",
       "    <tr>\n",
       "      <th>0456808574</th>\n",
       "      <td>Lantin White Visor Wrap Around Ski Style Aviat...</td>\n",
       "      <td>NaN</td>\n",
       "      <td>http://ecx.images-amazon.com/images/I/31UsrgT5...</td>\n",
       "      <td>NaN</td>\n",
       "      <td>NaN</td>\n",
       "      <td>[['Clothing, Shoes &amp; Jewelry', 'Women', 'Acces...</td>\n",
       "      <td>clothing_shoes_jewellery</td>\n",
       "      <td>['B005WF42SY', 'B003T1CFF0', 'B006AZCMUA', 'B0...</td>\n",
       "      <td>NaN</td>\n",
       "      <td>NaN</td>\n",
       "    </tr>\n",
       "  </tbody>\n",
       "</table>\n",
       "</div>"
      ],
      "text/plain": [
       "                                                        title  price  \\\n",
       "asin                                                                   \n",
       "0000037214  Purple Sequin Tiny Dancer Tutu Ballet Dance Fa...   6.99   \n",
       "0000031887                         Ballet Dress-Up Fairy Tutu   6.79   \n",
       "0123456479  SHINING IMAGE HUGE PINK LEATHER JEWELRY BOX / ...  64.98   \n",
       "0456844570  RiZ Women's Beautify Crafted &frac12; Rimmed F...    NaN   \n",
       "0456808574  Lantin White Visor Wrap Around Ski Style Aviat...    NaN   \n",
       "\n",
       "                                                        imUrl           brand  \\\n",
       "asin                                                                            \n",
       "0000037214  http://ecx.images-amazon.com/images/I/31mCncNu...      Big Dreams   \n",
       "0000031887  http://ecx.images-amazon.com/images/I/314qZjYe...  Boutique Cutie   \n",
       "0123456479  http://ecx.images-amazon.com/images/I/413tGhqo...             NaN   \n",
       "0456844570  http://ecx.images-amazon.com/images/I/31QZTHxv...             NaN   \n",
       "0456808574  http://ecx.images-amazon.com/images/I/31UsrgT5...             NaN   \n",
       "\n",
       "                                                  description  \\\n",
       "asin                                                            \n",
       "0000037214                                                NaN   \n",
       "0000031887  This adorable basic ballerina tutu is perfect ...   \n",
       "0123456479  Elegance par excellence. Hand-crafted of the f...   \n",
       "0456844570                                                NaN   \n",
       "0456808574                                                NaN   \n",
       "\n",
       "                                                   categories  \\\n",
       "asin                                                            \n",
       "0000037214  [['Clothing, Shoes & Jewelry', 'Girls'], ['Clo...   \n",
       "0000031887  [['Clothing, Shoes & Jewelry', 'Girls', 'Cloth...   \n",
       "0123456479  [['Clothing, Shoes & Jewelry', 'Novelty, Costu...   \n",
       "0456844570  [['Clothing, Shoes & Jewelry', 'Women', 'Acces...   \n",
       "0456808574  [['Clothing, Shoes & Jewelry', 'Women', 'Acces...   \n",
       "\n",
       "                            category  \\\n",
       "asin                                   \n",
       "0000037214  clothing_shoes_jewellery   \n",
       "0000031887  clothing_shoes_jewellery   \n",
       "0123456479  clothing_shoes_jewellery   \n",
       "0456844570  clothing_shoes_jewellery   \n",
       "0456808574  clothing_shoes_jewellery   \n",
       "\n",
       "                                                  also_viewed  \\\n",
       "asin                                                            \n",
       "0000037214                                     ['B00JO8II76']   \n",
       "0000031887  ['B00538F5OK', 'B003AVKOP2', 'B008F0SU0Y', 'B0...   \n",
       "0123456479  ['B0006JCGUM', 'B000BMTCK6', 'B00194Q262', 'B0...   \n",
       "0456844570  ['B004UOPY80', 'B00G2LY6OC', 'B00877BFFM', 'B0...   \n",
       "0456808574  ['B005WF42SY', 'B003T1CFF0', 'B006AZCMUA', 'B0...   \n",
       "\n",
       "                                                  also_bought  \\\n",
       "asin                                                            \n",
       "0000037214                                                NaN   \n",
       "0000031887  ['B003AVKOP2', 'B00D103F8U', 'B008F0SU0Y', 'B0...   \n",
       "0123456479  ['B000BMTCK6', 'B0006JCGUM', 'B00194Q262', 'B0...   \n",
       "0456844570                                                NaN   \n",
       "0456808574                                                NaN   \n",
       "\n",
       "                         bought_together  \n",
       "asin                                      \n",
       "0000037214                           NaN  \n",
       "0000031887                            []  \n",
       "0123456479  ['B000BMTCK6', 'B0006JCGUM']  \n",
       "0456844570                           NaN  \n",
       "0456808574                           NaN  "
      ]
     },
     "execution_count": 12,
     "metadata": {},
     "output_type": "execute_result"
    }
   ],
   "source": [
    "all_details_df.head()"
   ]
  },
  {
   "cell_type": "code",
   "execution_count": 13,
   "metadata": {},
   "outputs": [
    {
     "name": "stderr",
     "output_type": "stream",
     "text": [
      "100%|██████████| 407672/407672 [00:21<00:00, 19195.19it/s]\n"
     ]
    }
   ],
   "source": [
    "def has_required_data(product, required_columns):\n",
    "    if product.empty:\n",
    "        return False\n",
    "    return all(isinstance(product[col], str) for col in required_columns)\n",
    "\n",
    "def is_image_valid(product, image_list):\n",
    "    if product.empty or product['imUrl'] is None or pd.isna(product['imUrl']):\n",
    "        return False\n",
    "\n",
    "    image_name = product['imUrl'].split('/')[-1]\n",
    "    return image_name in image_list\n",
    "\n",
    "def is_asin_valid(asin, co_purchase_df, all_details_df, image_list, required_columns):\n",
    "    product = all_details_df.loc[asin]\n",
    "    if has_required_data(product, required_columns) and is_image_valid(product, image_list):\n",
    "        return asin\n",
    "    else:\n",
    "        return None\n",
    "\n",
    "def process_asins(co_purchase_df, all_details_df, image_list, required_columns):\n",
    "    valid_asins = set()\n",
    "    asins = co_purchase_df.index.unique()\n",
    "\n",
    "    for asin in tqdm(asins):\n",
    "        result = is_asin_valid(asin, co_purchase_df, all_details_df, image_list, required_columns)\n",
    "        if result:\n",
    "            valid_asins.add(result)\n",
    "\n",
    "    return valid_asins\n",
    "\n",
    "# Usage example\n",
    "image_list = get_image_list('/home/arnuv/amazon_dataset/clothing_shoes_jewellery/images')\n",
    "\n",
    "valid_asins = process_asins(k_core_df, all_details_df, image_list, ['title', 'imUrl', 'brand'])"
   ]
  },
  {
   "cell_type": "code",
   "execution_count": 14,
   "metadata": {},
   "outputs": [],
   "source": [
    "k_core_df = k_core_df.reset_index()"
   ]
  },
  {
   "cell_type": "code",
   "execution_count": 15,
   "metadata": {},
   "outputs": [],
   "source": [
    "# Step 2: Create masks for both 'asin' and 'also_bought'\n",
    "asin_mask = k_core_df['asin'].isin(valid_asins)\n",
    "also_bought_mask = k_core_df['also_bought'].apply(lambda x: x in valid_asins)"
   ]
  },
  {
   "cell_type": "code",
   "execution_count": 16,
   "metadata": {},
   "outputs": [],
   "source": [
    "combined_mask = asin_mask & also_bought_mask"
   ]
  },
  {
   "cell_type": "code",
   "execution_count": 17,
   "metadata": {},
   "outputs": [],
   "source": [
    "filtered_df = k_core_df[combined_mask]"
   ]
  },
  {
   "cell_type": "code",
   "execution_count": 18,
   "metadata": {},
   "outputs": [],
   "source": [
    "filtered_df.to_csv('kcore5new_brand.csv', index=False)"
   ]
  },
  {
   "cell_type": "markdown",
   "metadata": {},
   "source": [
    "CODE FOR GENERATING EDGE_INDICES"
   ]
  },
  {
   "cell_type": "code",
   "execution_count": 19,
   "metadata": {},
   "outputs": [],
   "source": [
    "k_5_csv = pd.read_csv('kcore5new_brand.csv')"
   ]
  },
  {
   "cell_type": "code",
   "execution_count": 20,
   "metadata": {},
   "outputs": [],
   "source": [
    "class AsinIdMap:\n",
    "    def __init__(self, asin_list):\n",
    "        self.asin_list = asin_list\n",
    "        self.asin_to_idx = {}\n",
    "        self.product_idx_to_asin = {}\n",
    "        self._build()\n",
    "    \n",
    "    def _build(self):\n",
    "        for idx, asin in enumerate(self.asin_list):\n",
    "            self.asin_to_idx[asin] = idx\n",
    "            self.product_idx_to_asin[idx] = asin\n",
    "    \n",
    "    def get_idx(self, asin):\n",
    "        return self.asin_to_idx[asin]\n",
    "    \n",
    "    def get_asin(self, product_idx):\n",
    "        return self.product_idx_to_asin[product_idx]\n",
    "    \n",
    "    def get_count(self):\n",
    "        return len(self.asin_to_idx)"
   ]
  },
  {
   "cell_type": "code",
   "execution_count": 21,
   "metadata": {},
   "outputs": [],
   "source": [
    "asin_list = list(k_5_csv['asin'].unique())\n",
    "asinIdLookup = AsinIdMap(asin_list)"
   ]
  },
  {
   "cell_type": "code",
   "execution_count": 22,
   "metadata": {},
   "outputs": [],
   "source": [
    "def build_product_to_product_edge_index(edges_pd, asin_id_map, right_key):\n",
    "    product_to_product_edge_index = []\n",
    "    for idx, row in tqdm(edges_pd.iterrows()):\n",
    "            asin1 = row['asin']\n",
    "            product1_idx = asin_id_map.get_idx(asin1)\n",
    "            asin2 = row[right_key]\n",
    "            product2_idx = asin_id_map.get_idx(asin2)\n",
    "            if product1_idx == product2_idx:\n",
    "                continue\n",
    "            product_to_product_edge_index.append([product1_idx, product2_idx])\n",
    "\n",
    "    return torch.tensor(product_to_product_edge_index).t().contiguous()"
   ]
  },
  {
   "cell_type": "code",
   "execution_count": null,
   "metadata": {},
   "outputs": [],
   "source": []
  },
  {
   "cell_type": "code",
   "execution_count": 23,
   "metadata": {},
   "outputs": [
    {
     "name": "stderr",
     "output_type": "stream",
     "text": [
      "2183it [00:00, 21825.81it/s]"
     ]
    },
    {
     "name": "stderr",
     "output_type": "stream",
     "text": [
      "574160it [00:26, 21319.34it/s]\n"
     ]
    },
    {
     "name": "stdout",
     "output_type": "stream",
     "text": [
      "Edge shape:  torch.Size([2, 574160])\n"
     ]
    }
   ],
   "source": [
    "edge_index = build_product_to_product_edge_index(k_5_csv, asinIdLookup, 'also_bought')\n",
    "print(\"Edge shape: \", edge_index.shape)"
   ]
  },
  {
   "cell_type": "code",
   "execution_count": null,
   "metadata": {},
   "outputs": [],
   "source": []
  },
  {
   "cell_type": "code",
   "execution_count": 24,
   "metadata": {},
   "outputs": [],
   "source": [
    "np.save(\"k5_edge_index_brand.npy\", edge_index)"
   ]
  },
  {
   "cell_type": "code",
   "execution_count": null,
   "metadata": {},
   "outputs": [],
   "source": []
  }
 ],
 "metadata": {
  "kernelspec": {
   "display_name": "venv",
   "language": "python",
   "name": "python3"
  },
  "language_info": {
   "codemirror_mode": {
    "name": "ipython",
    "version": 3
   },
   "file_extension": ".py",
   "mimetype": "text/x-python",
   "name": "python",
   "nbconvert_exporter": "python",
   "pygments_lexer": "ipython3",
   "version": "3.9.2"
  }
 },
 "nbformat": 4,
 "nbformat_minor": 2
}
